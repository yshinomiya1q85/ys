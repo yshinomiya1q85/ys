{
    "nbformat_minor": 1, 
    "cells": [
        {
            "execution_count": 1, 
            "cell_type": "code", 
            "metadata": {}, 
            "outputs": [], 
            "source": "#\u4f7f\u7528\u3059\u308b\u30e9\u30a4\u30d6\u30e9\u30ea\u306e\u30a4\u30f3\u30dd\u30fc\u30c8\nimport codecs\nimport types\nimport pandas as pd\nfrom botocore.client import Config\nimport ibm_boto3\nimport datetime as dt\nimport matplotlib.pyplot as plt"
        }, 
        {
            "execution_count": 2, 
            "cell_type": "code", 
            "metadata": {}, 
            "outputs": [], 
            "source": "# The code was removed by Watson Studio for sharing."
        }, 
        {
            "execution_count": 3, 
            "cell_type": "code", 
            "metadata": {}, 
            "outputs": [], 
            "source": "# APAR\u306ecsv\u30d5\u30a1\u30a4\u30eb\u30922\u3064\u8aad\u307f\u8fbc\u3093\u3067\u3001\u305d\u308c\u305e\u308cData Frame df_1,df_2 \u3068\u3057\u3066\u4fdd\u5b58\nwith codecs.open(\"apar_info1.csv\", \"r\", \"utf-8\", \"ignore\") as file:\n    df_1 = pd.read_table(file, delimiter=\",\")\n    \nwith codecs.open(\"apar_info2.csv\", \"r\", \"utf-8\", \"ignore\") as file:\n    df_2 = pd.read_table(file, delimiter=\",\")\n\n# \u4e8c\u3064\u306edataframe\u3092\u5408\u4f53\u3057\u3001df_apar\u3068\u3057\u3066\u4fdd\u5b58\ndf_apar = pd.concat([df_1, df_2]) "
        }, 
        {
            "execution_count": 4, 
            "cell_type": "code", 
            "metadata": {}, 
            "outputs": [
                {
                    "execution_count": 4, 
                    "metadata": {}, 
                    "data": {
                        "text/html": "<div>\n<style scoped>\n    .dataframe tbody tr th:only-of-type {\n        vertical-align: middle;\n    }\n\n    .dataframe tbody tr th {\n        vertical-align: top;\n    }\n\n    .dataframe thead th {\n        text-align: right;\n    }\n</style>\n<table border=\"1\" class=\"dataframe\">\n  <thead>\n    <tr style=\"text-align: right;\">\n      <th></th>\n      <th>APAR</th>\n      <th>STATUS</th>\n      <th>ISEV</th>\n      <th>RCOMP</th>\n      <th>SBDATE</th>\n      <th>CLOSE CODE</th>\n      <th>SEV</th>\n      <th>RREL</th>\n      <th>RCDATE</th>\n      <th>HIPER</th>\n      <th>...</th>\n      <th>ERROR DESCRIPTION</th>\n      <th>LOCAL FIX</th>\n      <th>USERS AFFECTED</th>\n      <th>PROBLEM DESCRIPTION</th>\n      <th>RECOMMENDATION</th>\n      <th>OPTIONAL ERROR DESCRIPTION</th>\n      <th>PROBLEM CONCLUSION</th>\n      <th>TEMPORARY FIX</th>\n      <th>COMMENTS</th>\n      <th>CIRCUMVENTION</th>\n    </tr>\n  </thead>\n  <tbody>\n    <tr>\n      <th>0</th>\n      <td>OA31527</td>\n      <td>'CLOSED</td>\n      <td>'3</td>\n      <td>'5752SC1BH</td>\n      <td>'09/12/23</td>\n      <td>'PER</td>\n      <td>'3</td>\n      <td>'R708</td>\n      <td>'09/12/29</td>\n      <td>NaN</td>\n      <td>...</td>\n      <td>'The customer is seeing a two minute delay bef...</td>\n      <td>'None\\n\\n</td>\n      <td>'All users of HJE7708 with OA20935\\napplied\\n\\n</td>\n      <td>'SYSGONE complete processing is\\ndelayed which...</td>\n      <td>'\\n\\n\\n</td>\n      <td>'Due to a lack of an IXZXIXCL invocation for t...</td>\n      <td>'TYPE/RESTART(WARM) IPL/REQUIRED(YES) CLPA(YES...</td>\n      <td>'*** * TEMPORARY FIX MAY BE OBTAINED FROM DLL ...</td>\n      <td>'\\n\\n\\n</td>\n      <td>'\\n\\n\\n</td>\n    </tr>\n    <tr>\n      <th>1</th>\n      <td>OA31538</td>\n      <td>'CLOSED</td>\n      <td>'3</td>\n      <td>'5655T07CV</td>\n      <td>'10/01/05</td>\n      <td>'PER</td>\n      <td>'2</td>\n      <td>'R1A0</td>\n      <td>'10/01/06</td>\n      <td>NaN</td>\n      <td>...</td>\n      <td>'Abend 0C1 in module IRRENV10 after activating...</td>\n      <td>'If JC4R1A0 and ptf UA48576 are not accepted, ...</td>\n      <td>'All users of zSecure Command Verifier v1.10\\n\\n</td>\n      <td>'Activating zSecure Command Verifier\\nleads to...</td>\n      <td>NaN</td>\n      <td>'Having zSecure Command Verifier active leads ...</td>\n      <td>'Due to the packaging error some extra code se...</td>\n      <td>NaN</td>\n      <td>NaN</td>\n      <td>NaN</td>\n    </tr>\n    <tr>\n      <th>2</th>\n      <td>OA30599</td>\n      <td>'CLOSED</td>\n      <td>'2</td>\n      <td>'5752SC1B4</td>\n      <td>'09/09/30</td>\n      <td>'PER</td>\n      <td>'2</td>\n      <td>'R750</td>\n      <td>'09/10/01</td>\n      <td>'HIPER/Y</td>\n      <td>...</td>\n      <td>'In z/OS 1.10 an abend0C4 may occur during dyn...</td>\n      <td>'If address space does not end and abend0C4's ...</td>\n      <td>'All HBB7750 and above environments.\\n\\n</td>\n      <td>'ABEND0C4 in IEFAB451, IEFAB4A0 or\\nIEFAB421.\\n\\n</td>\n      <td>'\\n\\n\\n</td>\n      <td>'In highly multitasked environments such as DB...</td>\n      <td>'Allocation's processing is corrected to set u...</td>\n      <td>'*********\\n* HIPER *\\n*********\\n\\n</td>\n      <td>'\\n\\n\\n</td>\n      <td>'\\n\\n\\n</td>\n    </tr>\n    <tr>\n      <th>3</th>\n      <td>OA30718</td>\n      <td>'CLOSED</td>\n      <td>'4</td>\n      <td>'5752SC1B4</td>\n      <td>'09/10/08</td>\n      <td>'PER</td>\n      <td>'4</td>\n      <td>'R740</td>\n      <td>'09/10/09</td>\n      <td>'HIPER/Y</td>\n      <td>...</td>\n      <td>'Some tape library environments, including the...</td>\n      <td>'\\n\\n\\n</td>\n      <td>'All HBB7740 and above environments which\\nuse...</td>\n      <td>' Performance degradation due to poor\\n choice...</td>\n      <td>'\\n\\n\\n</td>\n      <td>'When in an SMS managed tape environment that ...</td>\n      <td>'Tape Allocation is changed to compute device ...</td>\n      <td>'*********\\n* HIPER *\\n*********\\n\\n</td>\n      <td>'\\n\\n\\n</td>\n      <td>'\\n\\n\\n</td>\n    </tr>\n    <tr>\n      <th>4</th>\n      <td>OA30827</td>\n      <td>'CLOSED</td>\n      <td>'3</td>\n      <td>'5697ENV00</td>\n      <td>'09/10/21</td>\n      <td>'PER</td>\n      <td>'3</td>\n      <td>'R54B</td>\n      <td>'09/10/21</td>\n      <td>'HIPER/Y</td>\n      <td>...</td>\n      <td>'INTERMITTENTLY CNMCALRT WILL GO INTO A LOOP W...</td>\n      <td>NaN</td>\n      <td>'All NetView for z/OS V5R4 users of CNMCALRT.\\n\\n</td>\n      <td>'Sometimes CNMCALRT will go into a hard\\nloop ...</td>\n      <td>NaN</td>\n      <td>'CNMCALRT does not clear the DTR area in its a...</td>\n      <td>'CNMCALRT is being changed to use the task's a...</td>\n      <td>NaN</td>\n      <td>NaN</td>\n      <td>NaN</td>\n    </tr>\n  </tbody>\n</table>\n<p>5 rows \u00d7 31 columns</p>\n</div>", 
                        "text/plain": "      APAR   STATUS ISEV       RCOMP     SBDATE CLOSE CODE SEV   RREL  \\\n0  OA31527  'CLOSED   '3  '5752SC1BH  '09/12/23       'PER  '3  'R708   \n1  OA31538  'CLOSED   '3  '5655T07CV  '10/01/05       'PER  '2  'R1A0   \n2  OA30599  'CLOSED   '2  '5752SC1B4  '09/09/30       'PER  '2  'R750   \n3  OA30718  'CLOSED   '4  '5752SC1B4  '09/10/08       'PER  '4  'R740   \n4  OA30827  'CLOSED   '3  '5697ENV00  '09/10/21       'PER  '3  'R54B   \n\n      RCDATE     HIPER      ...       \\\n0  '09/12/29       NaN      ...        \n1  '10/01/06       NaN      ...        \n2  '09/10/01  'HIPER/Y      ...        \n3  '09/10/09  'HIPER/Y      ...        \n4  '09/10/21  'HIPER/Y      ...        \n\n                                   ERROR DESCRIPTION  \\\n0  'The customer is seeing a two minute delay bef...   \n1  'Abend 0C1 in module IRRENV10 after activating...   \n2  'In z/OS 1.10 an abend0C4 may occur during dyn...   \n3  'Some tape library environments, including the...   \n4  'INTERMITTENTLY CNMCALRT WILL GO INTO A LOOP W...   \n\n                                           LOCAL FIX  \\\n0                                          'None\\n\\n   \n1  'If JC4R1A0 and ptf UA48576 are not accepted, ...   \n2  'If address space does not end and abend0C4's ...   \n3                                            '\\n\\n\\n   \n4                                                NaN   \n\n                                      USERS AFFECTED  \\\n0    'All users of HJE7708 with OA20935\\napplied\\n\\n   \n1   'All users of zSecure Command Verifier v1.10\\n\\n   \n2           'All HBB7750 and above environments.\\n\\n   \n3  'All HBB7740 and above environments which\\nuse...   \n4  'All NetView for z/OS V5R4 users of CNMCALRT.\\n\\n   \n\n                                 PROBLEM DESCRIPTION RECOMMENDATION  \\\n0  'SYSGONE complete processing is\\ndelayed which...        '\\n\\n\\n   \n1  'Activating zSecure Command Verifier\\nleads to...            NaN   \n2  'ABEND0C4 in IEFAB451, IEFAB4A0 or\\nIEFAB421.\\n\\n        '\\n\\n\\n   \n3  ' Performance degradation due to poor\\n choice...        '\\n\\n\\n   \n4  'Sometimes CNMCALRT will go into a hard\\nloop ...            NaN   \n\n                          OPTIONAL ERROR DESCRIPTION  \\\n0  'Due to a lack of an IXZXIXCL invocation for t...   \n1  'Having zSecure Command Verifier active leads ...   \n2  'In highly multitasked environments such as DB...   \n3  'When in an SMS managed tape environment that ...   \n4  'CNMCALRT does not clear the DTR area in its a...   \n\n                                  PROBLEM CONCLUSION  \\\n0  'TYPE/RESTART(WARM) IPL/REQUIRED(YES) CLPA(YES...   \n1  'Due to the packaging error some extra code se...   \n2  'Allocation's processing is corrected to set u...   \n3  'Tape Allocation is changed to compute device ...   \n4  'CNMCALRT is being changed to use the task's a...   \n\n                                       TEMPORARY FIX COMMENTS CIRCUMVENTION  \n0  '*** * TEMPORARY FIX MAY BE OBTAINED FROM DLL ...  '\\n\\n\\n       '\\n\\n\\n  \n1                                                NaN      NaN           NaN  \n2               '*********\\n* HIPER *\\n*********\\n\\n  '\\n\\n\\n       '\\n\\n\\n  \n3               '*********\\n* HIPER *\\n*********\\n\\n  '\\n\\n\\n       '\\n\\n\\n  \n4                                                NaN      NaN           NaN  \n\n[5 rows x 31 columns]"
                    }, 
                    "output_type": "execute_result"
                }
            ], 
            "source": "df_apar = pd.concat([df_1, df_2]) \ndf_apar.head()"
        }, 
        {
            "execution_count": 5, 
            "cell_type": "code", 
            "metadata": {}, 
            "outputs": [
                {
                    "output_type": "stream", 
                    "name": "stdout", 
                    "text": "<class 'pandas.core.frame.DataFrame'>\nInt64Index: 35998 entries, 0 to 18034\nData columns (total 31 columns):\nAPAR                          35998 non-null object\nSTATUS                        35998 non-null object\nISEV                          35998 non-null object\nRCOMP                         35998 non-null object\nSBDATE                        35998 non-null object\nCLOSE CODE                    35998 non-null object\nSEV                           35998 non-null object\nRREL                          35998 non-null object\nRCDATE                        35998 non-null object\nHIPER                         11724 non-null object\nSEC/INT                       15221 non-null object\nFCOMP                         35998 non-null object\nCLDATE                        35998 non-null object\nPE                            2809 non-null object\nPFREL                         35998 non-null object\nFAILURE KEYWORD               35998 non-null object\nMODULES/MACROS                35995 non-null object\nAPPLICABLE LVL                35996 non-null object\nfunction?                     35994 non-null object\nversion?                      35994 non-null object\nABSTRACT                      35997 non-null object\nERROR DESCRIPTION             35991 non-null object\nLOCAL FIX                     33705 non-null object\nUSERS AFFECTED                35912 non-null object\nPROBLEM DESCRIPTION           35921 non-null object\nRECOMMENDATION                33049 non-null object\nOPTIONAL ERROR DESCRIPTION    35783 non-null object\nPROBLEM CONCLUSION            35710 non-null object\nTEMPORARY FIX                 33581 non-null object\nCOMMENTS                      31587 non-null object\nCIRCUMVENTION                 31509 non-null object\ndtypes: object(31)\nmemory usage: 8.8+ MB\n"
                }
            ], 
            "source": "df_apar.info()"
        }, 
        {
            "execution_count": 6, 
            "cell_type": "code", 
            "metadata": {}, 
            "outputs": [
                {
                    "execution_count": 6, 
                    "metadata": {}, 
                    "data": {
                        "text/plain": "Index(['APAR', 'STATUS', 'ISEV', 'RCOMP', 'SBDATE', 'CLOSE CODE', 'SEV',\n       'RREL', 'RCDATE', 'HIPER', 'SEC/INT', 'FCOMP', 'CLDATE', 'PE', 'PFREL',\n       'FAILURE KEYWORD', 'MODULES/MACROS', 'APPLICABLE LVL', 'function?',\n       'version?', 'ABSTRACT', 'ERROR DESCRIPTION', 'LOCAL FIX',\n       'USERS AFFECTED', 'PROBLEM DESCRIPTION', 'RECOMMENDATION',\n       'OPTIONAL ERROR DESCRIPTION', 'PROBLEM CONCLUSION', 'TEMPORARY FIX',\n       'COMMENTS', 'CIRCUMVENTION'],\n      dtype='object')"
                    }, 
                    "output_type": "execute_result"
                }
            ], 
            "source": "df_apar.columns"
        }, 
        {
            "execution_count": 7, 
            "cell_type": "code", 
            "metadata": {}, 
            "outputs": [], 
            "source": "#APAR\u540d\u306e\u5217\u3092\u30a4\u30f3\u30c7\u30c3\u30af\u30b9\u306b\u3059\u308b\ndf_apar.set_index('APAR',drop=True,inplace=True)"
        }, 
        {
            "execution_count": 8, 
            "cell_type": "code", 
            "metadata": {}, 
            "outputs": [], 
            "source": "#\u65e5\u4ed8\u306e\u30d5\u30a9\u30fc\u30de\u30c3\u30c8\u3092DataFrame\u306e\u30d5\u30a9\u30fc\u30de\u30c3\u30c8\u306b\u5909\u63db\ndf_apar[\"SBDATE\"] = pd.to_datetime(df_apar[\"SBDATE\"],format=\"'%y/%m/%d\")\ndf_apar[\"RCDATE\"] = pd.to_datetime(df_apar[\"RCDATE\"],format=\"'%y/%m/%d\")\ndf_apar[\"CLDATE\"] = pd.to_datetime(df_apar[\"CLDATE\"],format=\"'%y/%m/%d\")"
        }, 
        {
            "execution_count": 9, 
            "cell_type": "code", 
            "metadata": {}, 
            "outputs": [
                {
                    "execution_count": 9, 
                    "metadata": {}, 
                    "data": {
                        "text/html": "<div>\n<style scoped>\n    .dataframe tbody tr th:only-of-type {\n        vertical-align: middle;\n    }\n\n    .dataframe tbody tr th {\n        vertical-align: top;\n    }\n\n    .dataframe thead th {\n        text-align: right;\n    }\n</style>\n<table border=\"1\" class=\"dataframe\">\n  <thead>\n    <tr style=\"text-align: right;\">\n      <th></th>\n      <th>SBDATE</th>\n      <th>RCDATE</th>\n      <th>CLDATE</th>\n    </tr>\n    <tr>\n      <th>APAR</th>\n      <th></th>\n      <th></th>\n      <th></th>\n    </tr>\n  </thead>\n  <tbody>\n    <tr>\n      <th>OA31527</th>\n      <td>2009-12-23</td>\n      <td>2009-12-29</td>\n      <td>2010-01-08</td>\n    </tr>\n    <tr>\n      <th>OA31538</th>\n      <td>2010-01-05</td>\n      <td>2010-01-06</td>\n      <td>2010-01-13</td>\n    </tr>\n    <tr>\n      <th>OA30599</th>\n      <td>2009-09-30</td>\n      <td>2009-10-01</td>\n      <td>2010-01-04</td>\n    </tr>\n    <tr>\n      <th>OA30718</th>\n      <td>2009-10-08</td>\n      <td>2009-10-09</td>\n      <td>2010-01-14</td>\n    </tr>\n    <tr>\n      <th>OA30827</th>\n      <td>2009-10-21</td>\n      <td>2009-10-21</td>\n      <td>2010-01-13</td>\n    </tr>\n  </tbody>\n</table>\n</div>", 
                        "text/plain": "            SBDATE     RCDATE     CLDATE\nAPAR                                    \nOA31527 2009-12-23 2009-12-29 2010-01-08\nOA31538 2010-01-05 2010-01-06 2010-01-13\nOA30599 2009-09-30 2009-10-01 2010-01-04\nOA30718 2009-10-08 2009-10-09 2010-01-14\nOA30827 2009-10-21 2009-10-21 2010-01-13"
                    }, 
                    "output_type": "execute_result"
                }
            ], 
            "source": "df_apar[['SBDATE','RCDATE','CLDATE']].head()"
        }, 
        {
            "execution_count": 10, 
            "cell_type": "code", 
            "metadata": {
                "scrolled": true
            }, 
            "outputs": [
                {
                    "output_type": "stream", 
                    "name": "stdout", 
                    "text": "'PE/Y    2809\nName: PE, dtype: int64\n'HIPER/Y    11724\nName: HIPER, dtype: int64\n"
                }
            ], 
            "source": "#PE,HIPER\u5217\u3092\u30ab\u30a6\u30f3\u30c8\nprint(df_apar['PE'].value_counts())\nprint(df_apar['HIPER'].value_counts())"
        }, 
        {
            "execution_count": 12, 
            "cell_type": "code", 
            "metadata": {}, 
            "outputs": [
                {
                    "ename": "AttributeError", 
                    "evalue": "Can only use .str accessor with string values, which use np.object_ dtype in pandas", 
                    "traceback": [
                        "\u001b[0;31m---------------------------------------------------------------------------\u001b[0m", 
                        "\u001b[0;31mAttributeError\u001b[0m                            Traceback (most recent call last)", 
                        "\u001b[0;32m<ipython-input-12-ed20332859a6>\u001b[0m in \u001b[0;36m<module>\u001b[0;34m()\u001b[0m\n\u001b[1;32m      1\u001b[0m \u001b[0;31m#PE\u3001HIPER\u306e\u5217\u306b\u3064\u3044\u3066\u3001PE,HIPER\u306b\u8a72\u5f53\u3059\u308b\u5024\u30921\u306b\u5909\u63db\u3059\u308b\u001b[0m\u001b[0;34m\u001b[0m\u001b[0;34m\u001b[0m\u001b[0m\n\u001b[0;32m----> 2\u001b[0;31m \u001b[0mdf_apar\u001b[0m\u001b[0;34m[\u001b[0m\u001b[0;34m'PE'\u001b[0m\u001b[0;34m]\u001b[0m \u001b[0;34m=\u001b[0m \u001b[0mdf_apar\u001b[0m\u001b[0;34m[\u001b[0m\u001b[0;34m'PE'\u001b[0m\u001b[0;34m]\u001b[0m\u001b[0;34m.\u001b[0m\u001b[0mstr\u001b[0m\u001b[0;34m.\u001b[0m\u001b[0mreplace\u001b[0m\u001b[0;34m(\u001b[0m\u001b[0;34m\"'PE/Y\"\u001b[0m\u001b[0;34m,\u001b[0m \u001b[0;34m\"1\"\u001b[0m\u001b[0;34m)\u001b[0m\u001b[0;34m\u001b[0m\u001b[0m\n\u001b[0m\u001b[1;32m      3\u001b[0m \u001b[0mdf_apar\u001b[0m\u001b[0;34m[\u001b[0m\u001b[0;34m'HIPER'\u001b[0m\u001b[0;34m]\u001b[0m \u001b[0;34m=\u001b[0m \u001b[0mdf_apar\u001b[0m\u001b[0;34m[\u001b[0m\u001b[0;34m'HIPER'\u001b[0m\u001b[0;34m]\u001b[0m\u001b[0;34m.\u001b[0m\u001b[0mstr\u001b[0m\u001b[0;34m.\u001b[0m\u001b[0mreplace\u001b[0m\u001b[0;34m(\u001b[0m\u001b[0;34m\"'HIPER/Y\"\u001b[0m\u001b[0;34m,\u001b[0m \u001b[0;34m\"1\"\u001b[0m\u001b[0;34m)\u001b[0m\u001b[0;34m\u001b[0m\u001b[0m\n\u001b[1;32m      4\u001b[0m \u001b[0;34m\u001b[0m\u001b[0m\n\u001b[1;32m      5\u001b[0m \u001b[0;31m#PE\u3001HIPER\u306e\u5217\u306b\u3064\u3044\u3066\u3001\u5024\u304c\u5165\u3063\u3066\u3044\u306a\u3044NaN\u3092\u30010\u306b\u5909\u63db\u3059\u308b\u001b[0m\u001b[0;34m\u001b[0m\u001b[0;34m\u001b[0m\u001b[0m\n", 
                        "\u001b[0;32m/opt/conda/envs/DSX-Python35/lib/python3.5/site-packages/pandas/core/generic.py\u001b[0m in \u001b[0;36m__getattr__\u001b[0;34m(self, name)\u001b[0m\n\u001b[1;32m   3608\u001b[0m         if (name in self._internal_names_set or name in self._metadata or\n\u001b[1;32m   3609\u001b[0m                 name in self._accessors):\n\u001b[0;32m-> 3610\u001b[0;31m             \u001b[0;32mreturn\u001b[0m \u001b[0mobject\u001b[0m\u001b[0;34m.\u001b[0m\u001b[0m__getattribute__\u001b[0m\u001b[0;34m(\u001b[0m\u001b[0mself\u001b[0m\u001b[0;34m,\u001b[0m \u001b[0mname\u001b[0m\u001b[0;34m)\u001b[0m\u001b[0;34m\u001b[0m\u001b[0m\n\u001b[0m\u001b[1;32m   3611\u001b[0m         \u001b[0;32melse\u001b[0m\u001b[0;34m:\u001b[0m\u001b[0;34m\u001b[0m\u001b[0m\n\u001b[1;32m   3612\u001b[0m             \u001b[0;32mif\u001b[0m \u001b[0mname\u001b[0m \u001b[0;32min\u001b[0m \u001b[0mself\u001b[0m\u001b[0;34m.\u001b[0m\u001b[0m_info_axis\u001b[0m\u001b[0;34m:\u001b[0m\u001b[0;34m\u001b[0m\u001b[0m\n", 
                        "\u001b[0;32m/opt/conda/envs/DSX-Python35/lib/python3.5/site-packages/pandas/core/accessor.py\u001b[0m in \u001b[0;36m__get__\u001b[0;34m(self, instance, owner)\u001b[0m\n\u001b[1;32m     52\u001b[0m             \u001b[0;31m# this ensures that Series.str.<method> is well defined\u001b[0m\u001b[0;34m\u001b[0m\u001b[0;34m\u001b[0m\u001b[0m\n\u001b[1;32m     53\u001b[0m             \u001b[0;32mreturn\u001b[0m \u001b[0mself\u001b[0m\u001b[0;34m.\u001b[0m\u001b[0maccessor_cls\u001b[0m\u001b[0;34m\u001b[0m\u001b[0m\n\u001b[0;32m---> 54\u001b[0;31m         \u001b[0;32mreturn\u001b[0m \u001b[0mself\u001b[0m\u001b[0;34m.\u001b[0m\u001b[0mconstruct_accessor\u001b[0m\u001b[0;34m(\u001b[0m\u001b[0minstance\u001b[0m\u001b[0;34m)\u001b[0m\u001b[0;34m\u001b[0m\u001b[0m\n\u001b[0m\u001b[1;32m     55\u001b[0m \u001b[0;34m\u001b[0m\u001b[0m\n\u001b[1;32m     56\u001b[0m     \u001b[0;32mdef\u001b[0m \u001b[0m__set__\u001b[0m\u001b[0;34m(\u001b[0m\u001b[0mself\u001b[0m\u001b[0;34m,\u001b[0m \u001b[0minstance\u001b[0m\u001b[0;34m,\u001b[0m \u001b[0mvalue\u001b[0m\u001b[0;34m)\u001b[0m\u001b[0;34m:\u001b[0m\u001b[0;34m\u001b[0m\u001b[0m\n", 
                        "\u001b[0;32m/opt/conda/envs/DSX-Python35/lib/python3.5/site-packages/pandas/core/strings.py\u001b[0m in \u001b[0;36m_make_accessor\u001b[0;34m(cls, data)\u001b[0m\n\u001b[1;32m   1904\u001b[0m             \u001b[0;31m# (instead of test for object dtype), but that isn't practical for\u001b[0m\u001b[0;34m\u001b[0m\u001b[0;34m\u001b[0m\u001b[0m\n\u001b[1;32m   1905\u001b[0m             \u001b[0;31m# performance reasons until we have a str dtype (GH 9343)\u001b[0m\u001b[0;34m\u001b[0m\u001b[0;34m\u001b[0m\u001b[0m\n\u001b[0;32m-> 1906\u001b[0;31m             raise AttributeError(\"Can only use .str accessor with string \"\n\u001b[0m\u001b[1;32m   1907\u001b[0m                                  \u001b[0;34m\"values, which use np.object_ dtype in \"\u001b[0m\u001b[0;34m\u001b[0m\u001b[0m\n\u001b[1;32m   1908\u001b[0m                                  \"pandas\")\n", 
                        "\u001b[0;31mAttributeError\u001b[0m: Can only use .str accessor with string values, which use np.object_ dtype in pandas"
                    ], 
                    "output_type": "error"
                }
            ], 
            "source": "#PE\u3001HIPER\u306e\u5217\u306b\u3064\u3044\u3066\u3001PE,HIPER\u306b\u8a72\u5f53\u3059\u308b\u5024\u30921\u306b\u5909\u63db\u3059\u308b\ndf_apar['PE'] = df_apar['PE'].str.replace(\"'PE/Y\", \"1\")\ndf_apar['HIPER'] = df_apar['HIPER'].str.replace(\"'HIPER/Y\", \"1\")\n\n#PE\u3001HIPER\u306e\u5217\u306b\u3064\u3044\u3066\u3001\u5024\u304c\u5165\u3063\u3066\u3044\u306a\u3044NaN\u3092\u30010\u306b\u5909\u63db\u3059\u308b\ndf_apar['PE'] = df_apar['PE'].fillna(0)\ndf_apar['HIPER'] = df_apar['HIPER'].fillna(0)\n\n#PE\u3001HIPER\u306e\u5217\u306b\u3064\u3044\u3066\u30010,1 \u306e\u5024\u3092boolean\u5f62\u5f0f\u306b\u5909\u63db\u3059\u308b\ndf_apar['PE'] = df_apar['PE'].astype(bool)\ndf_apar['HIPER'] = df_apar['HIPER'].astype(bool)"
        }, 
        {
            "execution_count": 13, 
            "cell_type": "code", 
            "metadata": {}, 
            "outputs": [], 
            "source": "df_apar['COMMENTS'] = df_apar['COMMENTS'].fillna('none')\n#PE\u3092\u8d77\u3053\u3057\u305fPTF\u3092\u691c\u51fa\u3002comment\u6b04\u306b\u300cIN ERROR. SEE APAR\u300d\u304c\u8a18\u8f09\u3055\u308c\u3066\u3044\u308b\u5217\u3092PE_involve=True\u3068\u3057\u3001\u7121\u3044\u5834\u5408\u306fFalse\u3068\u3059\u308b\u3002\ndf_apar['PE_involve'] = False\ndf_apar.loc[df_apar['COMMENTS'].str.contains('IN ERROR. SEE APAR'),'PE_involve'] = True\ndf_apar.loc[df_apar['COMMENTS'].str.contains('IN ERROR.SEE APAR'),'PE_involve'] = True"
        }, 
        {
            "execution_count": 14, 
            "cell_type": "code", 
            "metadata": {}, 
            "outputs": [
                {
                    "output_type": "stream", 
                    "name": "stdout", 
                    "text": "PE_involve\u306e\u6570: 420\nPE_involve\u306e\u5272\u5408(%): 1.1667314850825046\n"
                }
            ], 
            "source": "#PE_involve\u306e\u4ef6\u6570\u3092\u78ba\u8a8d\na = len(df_apar[df_apar['PE_involve']==True])\nb = len(df_apar)\nprint('PE_involve\u306e\u6570:',a)\nprint('PE_involve\u306e\u5272\u5408(%):',(a/b)*100)"
        }, 
        {
            "execution_count": 15, 
            "cell_type": "code", 
            "metadata": {}, 
            "outputs": [
                {
                    "execution_count": 15, 
                    "metadata": {}, 
                    "data": {
                        "text/html": "<div>\n<style scoped>\n    .dataframe tbody tr th:only-of-type {\n        vertical-align: middle;\n    }\n\n    .dataframe tbody tr th {\n        vertical-align: top;\n    }\n\n    .dataframe thead th {\n        text-align: right;\n    }\n</style>\n<table border=\"1\" class=\"dataframe\">\n  <thead>\n    <tr style=\"text-align: right;\">\n      <th></th>\n      <th>PE</th>\n      <th>HIPER</th>\n      <th>PE_involve</th>\n    </tr>\n    <tr>\n      <th>APAR</th>\n      <th></th>\n      <th></th>\n      <th></th>\n    </tr>\n  </thead>\n  <tbody>\n    <tr>\n      <th>OA31527</th>\n      <td>False</td>\n      <td>False</td>\n      <td>False</td>\n    </tr>\n    <tr>\n      <th>OA31538</th>\n      <td>True</td>\n      <td>False</td>\n      <td>False</td>\n    </tr>\n    <tr>\n      <th>OA30599</th>\n      <td>False</td>\n      <td>True</td>\n      <td>False</td>\n    </tr>\n    <tr>\n      <th>OA30718</th>\n      <td>False</td>\n      <td>True</td>\n      <td>False</td>\n    </tr>\n    <tr>\n      <th>OA30827</th>\n      <td>False</td>\n      <td>True</td>\n      <td>False</td>\n    </tr>\n  </tbody>\n</table>\n</div>", 
                        "text/plain": "            PE  HIPER  PE_involve\nAPAR                             \nOA31527  False  False       False\nOA31538   True  False       False\nOA30599  False   True       False\nOA30718  False   True       False\nOA30827  False   True       False"
                    }, 
                    "output_type": "execute_result"
                }
            ], 
            "source": "df_apar[['PE','HIPER','PE_involve']].head()"
        }, 
        {
            "execution_count": 16, 
            "cell_type": "code", 
            "metadata": {}, 
            "outputs": [], 
            "source": "# \u4fee\u6b63\u307e\u3067\u306e\u65e5\u6570\u3092\u5217\u306b\u8ffd\u52a0\u3002\uff08\u5217\u540d\u3092\u8981\u78ba\u8a8d\uff09\ndf_apar['days_to_aparclose'] = df_apar['CLDATE']-df_apar['SBDATE']\ndf_apar['days_to_aparclose'] = df_apar['days_to_aparclose'].dt.days"
        }, 
        {
            "execution_count": 17, 
            "cell_type": "code", 
            "metadata": {}, 
            "outputs": [
                {
                    "execution_count": 17, 
                    "metadata": {}, 
                    "data": {
                        "text/plain": "count    35998.000000\nmean        68.494861\nstd         85.888812\nmin          0.000000\n25%         20.000000\n50%         44.000000\n75%         84.000000\nmax       1535.000000\nName: days_to_aparclose, dtype: float64"
                    }, 
                    "output_type": "execute_result"
                }
            ], 
            "source": "df_apar['days_to_aparclose'].describe()"
        }, 
        {
            "execution_count": 18, 
            "cell_type": "code", 
            "metadata": {}, 
            "outputs": [
                {
                    "execution_count": 18, 
                    "metadata": {}, 
                    "data": {
                        "text/plain": "<matplotlib.axes._subplots.AxesSubplot at 0x7f8839ce54e0>"
                    }, 
                    "output_type": "execute_result"
                }, 
                {
                    "output_type": "display_data", 
                    "data": {
                        "image/png": "[encoded data removed]", 
                        "text/plain": "<matplotlib.figure.Figure at 0x7f883b07a128>"
                    }, 
                    "metadata": {}
                }
            ], 
            "source": "#\u4fee\u6b63\u307e\u3067\u306e\u65e5\u6570\u3092\u30d7\u30ed\u30c3\u30c8\u3057\u3066\u307f\u308b\ndf_apar['days_to_aparclose'].plot.hist()"
        }, 
        {
            "execution_count": 20, 
            "cell_type": "code", 
            "metadata": {}, 
            "outputs": [], 
            "source": "#SEV\u306e\u5217\u306e' \u3092\u524a\u9664\u3002\u305d\u308c\u305e\u308c\u306b\u5bfe\u5fdc\u3059\u308b\u5909\u6570\u5217\u3092\u8ffd\u52a0\ndf_apar['SEV'] = df_apar['SEV'].str.replace(\"'\", \"\")\ndf_apar = pd.get_dummies(df_apar, columns=[\"SEV\"])"
        }, 
        {
            "execution_count": 21, 
            "cell_type": "code", 
            "metadata": {}, 
            "outputs": [
                {
                    "execution_count": 21, 
                    "metadata": {}, 
                    "data": {
                        "text/html": "<div>\n<style scoped>\n    .dataframe tbody tr th:only-of-type {\n        vertical-align: middle;\n    }\n\n    .dataframe tbody tr th {\n        vertical-align: top;\n    }\n\n    .dataframe thead th {\n        text-align: right;\n    }\n</style>\n<table border=\"1\" class=\"dataframe\">\n  <thead>\n    <tr style=\"text-align: right;\">\n      <th></th>\n      <th>HIPER</th>\n      <th>PE</th>\n      <th>PE_involve</th>\n      <th>days_to_aparclose</th>\n      <th>SEV_1</th>\n      <th>SEV_2</th>\n      <th>SEV_3</th>\n      <th>SEV_4</th>\n    </tr>\n  </thead>\n  <tbody>\n    <tr>\n      <th>HIPER</th>\n      <td>1.000000</td>\n      <td>0.060367</td>\n      <td>-0.021964</td>\n      <td>-0.013714</td>\n      <td>0.183035</td>\n      <td>0.178476</td>\n      <td>-0.157698</td>\n      <td>-0.157531</td>\n    </tr>\n    <tr>\n      <th>PE</th>\n      <td>0.060367</td>\n      <td>1.000000</td>\n      <td>0.040726</td>\n      <td>-0.088451</td>\n      <td>0.045482</td>\n      <td>0.156960</td>\n      <td>-0.129213</td>\n      <td>-0.074524</td>\n    </tr>\n    <tr>\n      <th>PE_involve</th>\n      <td>-0.021964</td>\n      <td>0.040726</td>\n      <td>1.000000</td>\n      <td>0.039789</td>\n      <td>-0.010126</td>\n      <td>-0.001726</td>\n      <td>-0.010691</td>\n      <td>0.026375</td>\n    </tr>\n    <tr>\n      <th>days_to_aparclose</th>\n      <td>-0.013714</td>\n      <td>-0.088451</td>\n      <td>0.039789</td>\n      <td>1.000000</td>\n      <td>-0.054341</td>\n      <td>-0.058466</td>\n      <td>0.033047</td>\n      <td>0.076938</td>\n    </tr>\n    <tr>\n      <th>SEV_1</th>\n      <td>0.183035</td>\n      <td>0.045482</td>\n      <td>-0.010126</td>\n      <td>-0.054341</td>\n      <td>1.000000</td>\n      <td>-0.192258</td>\n      <td>-0.192357</td>\n      <td>-0.080136</td>\n    </tr>\n    <tr>\n      <th>SEV_2</th>\n      <td>0.178476</td>\n      <td>0.156960</td>\n      <td>-0.001726</td>\n      <td>-0.058466</td>\n      <td>-0.192258</td>\n      <td>1.000000</td>\n      <td>-0.723753</td>\n      <td>-0.301516</td>\n    </tr>\n    <tr>\n      <th>SEV_3</th>\n      <td>-0.157698</td>\n      <td>-0.129213</td>\n      <td>-0.010691</td>\n      <td>0.033047</td>\n      <td>-0.192357</td>\n      <td>-0.723753</td>\n      <td>1.000000</td>\n      <td>-0.301671</td>\n    </tr>\n    <tr>\n      <th>SEV_4</th>\n      <td>-0.157531</td>\n      <td>-0.074524</td>\n      <td>0.026375</td>\n      <td>0.076938</td>\n      <td>-0.080136</td>\n      <td>-0.301516</td>\n      <td>-0.301671</td>\n      <td>1.000000</td>\n    </tr>\n  </tbody>\n</table>\n</div>", 
                        "text/plain": "                      HIPER        PE  PE_involve  days_to_aparclose  \\\nHIPER              1.000000  0.060367   -0.021964          -0.013714   \nPE                 0.060367  1.000000    0.040726          -0.088451   \nPE_involve        -0.021964  0.040726    1.000000           0.039789   \ndays_to_aparclose -0.013714 -0.088451    0.039789           1.000000   \nSEV_1              0.183035  0.045482   -0.010126          -0.054341   \nSEV_2              0.178476  0.156960   -0.001726          -0.058466   \nSEV_3             -0.157698 -0.129213   -0.010691           0.033047   \nSEV_4             -0.157531 -0.074524    0.026375           0.076938   \n\n                      SEV_1     SEV_2     SEV_3     SEV_4  \nHIPER              0.183035  0.178476 -0.157698 -0.157531  \nPE                 0.045482  0.156960 -0.129213 -0.074524  \nPE_involve        -0.010126 -0.001726 -0.010691  0.026375  \ndays_to_aparclose -0.054341 -0.058466  0.033047  0.076938  \nSEV_1              1.000000 -0.192258 -0.192357 -0.080136  \nSEV_2             -0.192258  1.000000 -0.723753 -0.301516  \nSEV_3             -0.192357 -0.723753  1.000000 -0.301671  \nSEV_4             -0.080136 -0.301516 -0.301671  1.000000  "
                    }, 
                    "output_type": "execute_result"
                }
            ], 
            "source": "# \u5217\u540c\u58eb\u306e\u76f8\u95a2\u95a2\u4fc2\u3092\u8868\u793a\ndf_apar.corr()"
        }, 
        {
            "execution_count": 22, 
            "cell_type": "code", 
            "metadata": {}, 
            "outputs": [
                {
                    "output_type": "stream", 
                    "name": "stdout", 
                    "text": "100\u65e5\u4ee5\u4e0a\u639b\u304b\u3063\u3066\u308b\u4ef6\u6570 6719\n"
                }
            ], 
            "source": "#\u4fee\u6b63\u307e\u3067\u306b100\u65e5\u4ee5\u4e0a\u639b\u304b\u3063\u3066\u3044\u308b\u4ef6\u6570\u3092\u30ab\u30a6\u30f3\u30c8\nprint('100\u65e5\u4ee5\u4e0a\u639b\u304b\u3063\u3066\u308b\u4ef6\u6570',len(df_apar[df_apar['days_to_aparclose'] > 100]))"
        }, 
        {
            "execution_count": 23, 
            "cell_type": "code", 
            "metadata": {}, 
            "outputs": [
                {
                    "execution_count": 23, 
                    "metadata": {}, 
                    "data": {
                        "text/plain": "array([\"'NF NEW FUNCTION\", \"'NF NEWFUNC\", \"'NF NEWFUNCTION\",\n       \"'NF NEWFUCTION\", \"'NF NEW Function\", \"'NF NEWFUNCT\", \"'NF NEWF\",\n       \"'IN NEW FUNCTION\", \"'NF NEW FUCNTION\", \"'NF NEWFUNCTIO\",\n       \"'NF NEW MESSAGE\", \"'NF NEWFUNCTN\", \"'NF NEWFUNCTION:\",\n       \"'NF NEWFUN\", \"'NF  NEWFUNC\", \"'NF NEWFUNCTOIN\", \"'NF NEW FUNCTIOM\",\n       \"'NF NEWFUNCTI\", \"'NF NEW FUNC\", \"'NF NEW FUCTION\", \"'NF NEW\",\n       \"'NF NEW FUNCTIO\", \"'NF NEW_FUNCTION\", \"'AI NEW FUNCTION\"], dtype=object)"
                    }, 
                    "output_type": "execute_result"
                }
            ], 
            "source": "#FAILURE KEYWORD\u5217\u306bNEW\u306e\u6587\u5b57\u5217\u3092\u542b\u3080\u3082\u306e\u3092\u629c\u7c8b\u3057\u3001df_newfunc\u306e\u30c7\u30fc\u30bf\u30d5\u30ec\u30fc\u30e0\u3068\u3057\u3066\u5b9a\u7fa9\ndf_newfunc = df_apar[df_apar['FAILURE KEYWORD'].str.contains('NEW')]\ndf_newfunc['FAILURE KEYWORD'].unique()"
        }, 
        {
            "execution_count": 24, 
            "cell_type": "code", 
            "metadata": {}, 
            "outputs": [
                {
                    "output_type": "stream", 
                    "name": "stdout", 
                    "text": "FAILURE KEYWORD\u5217\u306bNEW\u306e\u6587\u5b57\u5217\u3092\u542b\u3080\u6570: 2185\nNEW\u3092\u542b\u3080APAR\u306ePE_involve\u6570: 84\nNEW\u3092\u542b\u3080APAR\u306ePE_involve\u306e\u5272\u5408(%): 3.8443935926773456\n"
                }
            ], 
            "source": "#FAILURE KEYWORD\u5217\u306bNEW\u306e\u6587\u5b57\u5217\u3092\u542b\u3080\u5834\u5408\u306ePE\u6570\na = len(df_newfunc)\nb = len(df_newfunc[df_newfunc['PE_involve']==True])\nprint('FAILURE KEYWORD\u5217\u306bNEW\u306e\u6587\u5b57\u5217\u3092\u542b\u3080\u6570:',a)\nprint('NEW\u3092\u542b\u3080APAR\u306ePE_involve\u6570:',b)\nprint('NEW\u3092\u542b\u3080APAR\u306ePE_involve\u306e\u5272\u5408(%):',(b/a)*100)"
        }, 
        {
            "execution_count": null, 
            "cell_type": "code", 
            "metadata": {}, 
            "outputs": [], 
            "source": ""
        }
    ], 
    "metadata": {
        "kernelspec": {
            "display_name": "Python 3.5", 
            "name": "python3", 
            "language": "python"
        }, 
        "language_info": {
            "mimetype": "text/x-python", 
            "nbconvert_exporter": "python", 
            "version": "3.5.5", 
            "name": "python", 
            "file_extension": ".py", 
            "pygments_lexer": "ipython3", 
            "codemirror_mode": {
                "version": 3, 
                "name": "ipython"
            }
        }
    }, 
    "nbformat": 4
}