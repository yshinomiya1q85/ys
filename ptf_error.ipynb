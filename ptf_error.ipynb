{
    "nbformat_minor": 1, 
    "cells": [
        {
            "execution_count": 1, 
            "cell_type": "code", 
            "metadata": {}, 
            "outputs": [], 
            "source": "#\u4f7f\u7528\u3059\u308b\u30e9\u30a4\u30d6\u30e9\u30ea\u306e\u30a4\u30f3\u30dd\u30fc\u30c8\nimport codecs\nimport types\nimport pandas as pd\nimport numpy as np\nfrom botocore.client import Config\nimport ibm_boto3\nimport datetime as dt\nimport matplotlib.pyplot as plt\nimport re\nfrom sklearn.tree import DecisionTreeClassifier\nfrom sklearn.model_selection import train_test_split\nfrom sklearn import metrics"
        }, 
        {
            "execution_count": 2, 
            "cell_type": "code", 
            "metadata": {}, 
            "outputs": [], 
            "source": "# The code was removed by Watson Studio for sharing."
        }, 
        {
            "execution_count": 3, 
            "cell_type": "code", 
            "metadata": {}, 
            "outputs": [
                {
                    "execution_count": 3, 
                    "metadata": {}, 
                    "data": {
                        "text/html": "<div>\n<style scoped>\n    .dataframe tbody tr th:only-of-type {\n        vertical-align: middle;\n    }\n\n    .dataframe tbody tr th {\n        vertical-align: top;\n    }\n\n    .dataframe thead th {\n        text-align: right;\n    }\n</style>\n<table border=\"1\" class=\"dataframe\">\n  <thead>\n    <tr style=\"text-align: right;\">\n      <th></th>\n      <th>APAR</th>\n      <th>STATUS</th>\n      <th>ISEV</th>\n      <th>RCOMP</th>\n      <th>SBDATE</th>\n      <th>CLOSE CODE</th>\n      <th>SEV</th>\n      <th>RREL</th>\n      <th>RCDATE</th>\n      <th>HIPER</th>\n      <th>...</th>\n      <th>ERROR DESCRIPTION</th>\n      <th>LOCAL FIX</th>\n      <th>USERS AFFECTED</th>\n      <th>PROBLEM DESCRIPTION</th>\n      <th>RECOMMENDATION</th>\n      <th>OPTIONAL ERROR DESCRIPTION</th>\n      <th>PROBLEM CONCLUSION</th>\n      <th>TEMPORARY FIX</th>\n      <th>COMMENTS</th>\n      <th>CIRCUMVENTION</th>\n    </tr>\n  </thead>\n  <tbody>\n    <tr>\n      <th>0</th>\n      <td>OA31527</td>\n      <td>'CLOSED</td>\n      <td>'3</td>\n      <td>'5752SC1BH</td>\n      <td>'09/12/23</td>\n      <td>'PER</td>\n      <td>'3</td>\n      <td>'R708</td>\n      <td>'09/12/29</td>\n      <td>NaN</td>\n      <td>...</td>\n      <td>'The customer is seeing a two minute delay bef...</td>\n      <td>'None\\n\\n</td>\n      <td>'All users of HJE7708 with OA20935\\napplied\\n\\n</td>\n      <td>'SYSGONE complete processing is\\ndelayed which...</td>\n      <td>'\\n\\n\\n</td>\n      <td>'Due to a lack of an IXZXIXCL invocation for t...</td>\n      <td>'TYPE/RESTART(WARM) IPL/REQUIRED(YES) CLPA(YES...</td>\n      <td>'*** * TEMPORARY FIX MAY BE OBTAINED FROM DLL ...</td>\n      <td>'\\n\\n\\n</td>\n      <td>'\\n\\n\\n</td>\n    </tr>\n    <tr>\n      <th>1</th>\n      <td>OA31538</td>\n      <td>'CLOSED</td>\n      <td>'3</td>\n      <td>'5655T07CV</td>\n      <td>'10/01/05</td>\n      <td>'PER</td>\n      <td>'2</td>\n      <td>'R1A0</td>\n      <td>'10/01/06</td>\n      <td>NaN</td>\n      <td>...</td>\n      <td>'Abend 0C1 in module IRRENV10 after activating...</td>\n      <td>'If JC4R1A0 and ptf UA48576 are not accepted, ...</td>\n      <td>'All users of zSecure Command Verifier v1.10\\n\\n</td>\n      <td>'Activating zSecure Command Verifier\\nleads to...</td>\n      <td>NaN</td>\n      <td>'Having zSecure Command Verifier active leads ...</td>\n      <td>'Due to the packaging error some extra code se...</td>\n      <td>NaN</td>\n      <td>NaN</td>\n      <td>NaN</td>\n    </tr>\n    <tr>\n      <th>2</th>\n      <td>OA30599</td>\n      <td>'CLOSED</td>\n      <td>'2</td>\n      <td>'5752SC1B4</td>\n      <td>'09/09/30</td>\n      <td>'PER</td>\n      <td>'2</td>\n      <td>'R750</td>\n      <td>'09/10/01</td>\n      <td>'HIPER/Y</td>\n      <td>...</td>\n      <td>'In z/OS 1.10 an abend0C4 may occur during dyn...</td>\n      <td>'If address space does not end and abend0C4's ...</td>\n      <td>'All HBB7750 and above environments.\\n\\n</td>\n      <td>'ABEND0C4 in IEFAB451, IEFAB4A0 or\\nIEFAB421.\\n\\n</td>\n      <td>'\\n\\n\\n</td>\n      <td>'In highly multitasked environments such as DB...</td>\n      <td>'Allocation's processing is corrected to set u...</td>\n      <td>'*********\\n* HIPER *\\n*********\\n\\n</td>\n      <td>'\\n\\n\\n</td>\n      <td>'\\n\\n\\n</td>\n    </tr>\n    <tr>\n      <th>3</th>\n      <td>OA30718</td>\n      <td>'CLOSED</td>\n      <td>'4</td>\n      <td>'5752SC1B4</td>\n      <td>'09/10/08</td>\n      <td>'PER</td>\n      <td>'4</td>\n      <td>'R740</td>\n      <td>'09/10/09</td>\n      <td>'HIPER/Y</td>\n      <td>...</td>\n      <td>'Some tape library environments, including the...</td>\n      <td>'\\n\\n\\n</td>\n      <td>'All HBB7740 and above environments which\\nuse...</td>\n      <td>' Performance degradation due to poor\\n choice...</td>\n      <td>'\\n\\n\\n</td>\n      <td>'When in an SMS managed tape environment that ...</td>\n      <td>'Tape Allocation is changed to compute device ...</td>\n      <td>'*********\\n* HIPER *\\n*********\\n\\n</td>\n      <td>'\\n\\n\\n</td>\n      <td>'\\n\\n\\n</td>\n    </tr>\n    <tr>\n      <th>4</th>\n      <td>OA30827</td>\n      <td>'CLOSED</td>\n      <td>'3</td>\n      <td>'5697ENV00</td>\n      <td>'09/10/21</td>\n      <td>'PER</td>\n      <td>'3</td>\n      <td>'R54B</td>\n      <td>'09/10/21</td>\n      <td>'HIPER/Y</td>\n      <td>...</td>\n      <td>'INTERMITTENTLY CNMCALRT WILL GO INTO A LOOP W...</td>\n      <td>NaN</td>\n      <td>'All NetView for z/OS V5R4 users of CNMCALRT.\\n\\n</td>\n      <td>'Sometimes CNMCALRT will go into a hard\\nloop ...</td>\n      <td>NaN</td>\n      <td>'CNMCALRT does not clear the DTR area in its a...</td>\n      <td>'CNMCALRT is being changed to use the task's a...</td>\n      <td>NaN</td>\n      <td>NaN</td>\n      <td>NaN</td>\n    </tr>\n  </tbody>\n</table>\n<p>5 rows \u00d7 31 columns</p>\n</div>", 
                        "text/plain": "      APAR   STATUS ISEV       RCOMP     SBDATE CLOSE CODE SEV   RREL  \\\n0  OA31527  'CLOSED   '3  '5752SC1BH  '09/12/23       'PER  '3  'R708   \n1  OA31538  'CLOSED   '3  '5655T07CV  '10/01/05       'PER  '2  'R1A0   \n2  OA30599  'CLOSED   '2  '5752SC1B4  '09/09/30       'PER  '2  'R750   \n3  OA30718  'CLOSED   '4  '5752SC1B4  '09/10/08       'PER  '4  'R740   \n4  OA30827  'CLOSED   '3  '5697ENV00  '09/10/21       'PER  '3  'R54B   \n\n      RCDATE     HIPER      ...       \\\n0  '09/12/29       NaN      ...        \n1  '10/01/06       NaN      ...        \n2  '09/10/01  'HIPER/Y      ...        \n3  '09/10/09  'HIPER/Y      ...        \n4  '09/10/21  'HIPER/Y      ...        \n\n                                   ERROR DESCRIPTION  \\\n0  'The customer is seeing a two minute delay bef...   \n1  'Abend 0C1 in module IRRENV10 after activating...   \n2  'In z/OS 1.10 an abend0C4 may occur during dyn...   \n3  'Some tape library environments, including the...   \n4  'INTERMITTENTLY CNMCALRT WILL GO INTO A LOOP W...   \n\n                                           LOCAL FIX  \\\n0                                          'None\\n\\n   \n1  'If JC4R1A0 and ptf UA48576 are not accepted, ...   \n2  'If address space does not end and abend0C4's ...   \n3                                            '\\n\\n\\n   \n4                                                NaN   \n\n                                      USERS AFFECTED  \\\n0    'All users of HJE7708 with OA20935\\napplied\\n\\n   \n1   'All users of zSecure Command Verifier v1.10\\n\\n   \n2           'All HBB7750 and above environments.\\n\\n   \n3  'All HBB7740 and above environments which\\nuse...   \n4  'All NetView for z/OS V5R4 users of CNMCALRT.\\n\\n   \n\n                                 PROBLEM DESCRIPTION RECOMMENDATION  \\\n0  'SYSGONE complete processing is\\ndelayed which...        '\\n\\n\\n   \n1  'Activating zSecure Command Verifier\\nleads to...            NaN   \n2  'ABEND0C4 in IEFAB451, IEFAB4A0 or\\nIEFAB421.\\n\\n        '\\n\\n\\n   \n3  ' Performance degradation due to poor\\n choice...        '\\n\\n\\n   \n4  'Sometimes CNMCALRT will go into a hard\\nloop ...            NaN   \n\n                          OPTIONAL ERROR DESCRIPTION  \\\n0  'Due to a lack of an IXZXIXCL invocation for t...   \n1  'Having zSecure Command Verifier active leads ...   \n2  'In highly multitasked environments such as DB...   \n3  'When in an SMS managed tape environment that ...   \n4  'CNMCALRT does not clear the DTR area in its a...   \n\n                                  PROBLEM CONCLUSION  \\\n0  'TYPE/RESTART(WARM) IPL/REQUIRED(YES) CLPA(YES...   \n1  'Due to the packaging error some extra code se...   \n2  'Allocation's processing is corrected to set u...   \n3  'Tape Allocation is changed to compute device ...   \n4  'CNMCALRT is being changed to use the task's a...   \n\n                                       TEMPORARY FIX COMMENTS CIRCUMVENTION  \n0  '*** * TEMPORARY FIX MAY BE OBTAINED FROM DLL ...  '\\n\\n\\n       '\\n\\n\\n  \n1                                                NaN      NaN           NaN  \n2               '*********\\n* HIPER *\\n*********\\n\\n  '\\n\\n\\n       '\\n\\n\\n  \n3               '*********\\n* HIPER *\\n*********\\n\\n  '\\n\\n\\n       '\\n\\n\\n  \n4                                                NaN      NaN           NaN  \n\n[5 rows x 31 columns]"
                    }, 
                    "output_type": "execute_result"
                }
            ], 
            "source": "# APAR\u306ecsv\u30d5\u30a1\u30a4\u30eb\u30922\u3064\u8aad\u307f\u8fbc\u3093\u3067\u3001\u305d\u308c\u305e\u308cData Frame df_1,df_2 \u3068\u3057\u3066\u4fdd\u5b58\nwith codecs.open(\"apar_info1.csv\", \"r\", \"utf-8\", \"ignore\") as file:\n    df_1 = pd.read_table(file, delimiter=\",\")\n    \nwith codecs.open(\"apar_info2.csv\", \"r\", \"utf-8\", \"ignore\") as file:\n    df_2 = pd.read_table(file, delimiter=\",\")\n\n# \u4e8c\u3064\u306edataframe\u3092\u5408\u4f53\u3057\u3001df_apar\u3068\u3057\u3066\u4fdd\u5b58\ndf_apar = pd.concat([df_1, df_2]) \ndf_apar.head()"
        }, 
        {
            "execution_count": 4, 
            "cell_type": "code", 
            "metadata": {}, 
            "outputs": [
                {
                    "output_type": "stream", 
                    "name": "stdout", 
                    "text": "<class 'pandas.core.frame.DataFrame'>\nInt64Index: 35998 entries, 0 to 18034\nData columns (total 31 columns):\nAPAR                          35998 non-null object\nSTATUS                        35998 non-null object\nISEV                          35998 non-null object\nRCOMP                         35998 non-null object\nSBDATE                        35998 non-null object\nCLOSE CODE                    35998 non-null object\nSEV                           35998 non-null object\nRREL                          35998 non-null object\nRCDATE                        35998 non-null object\nHIPER                         11724 non-null object\nSEC/INT                       15221 non-null object\nFCOMP                         35998 non-null object\nCLDATE                        35998 non-null object\nPE                            2809 non-null object\nPFREL                         35998 non-null object\nFAILURE KEYWORD               35998 non-null object\nMODULES/MACROS                35995 non-null object\nAPPLICABLE LVL                35996 non-null object\nfunction?                     35994 non-null object\nversion?                      35994 non-null object\nABSTRACT                      35997 non-null object\nERROR DESCRIPTION             35991 non-null object\nLOCAL FIX                     33705 non-null object\nUSERS AFFECTED                35912 non-null object\nPROBLEM DESCRIPTION           35921 non-null object\nRECOMMENDATION                33049 non-null object\nOPTIONAL ERROR DESCRIPTION    35783 non-null object\nPROBLEM CONCLUSION            35710 non-null object\nTEMPORARY FIX                 33581 non-null object\nCOMMENTS                      31587 non-null object\nCIRCUMVENTION                 31509 non-null object\ndtypes: object(31)\nmemory usage: 8.8+ MB\n"
                }
            ], 
            "source": "df_apar.info()"
        }, 
        {
            "execution_count": 5, 
            "cell_type": "code", 
            "metadata": {}, 
            "outputs": [
                {
                    "execution_count": 5, 
                    "metadata": {}, 
                    "data": {
                        "text/plain": "Index(['APAR', 'STATUS', 'ISEV', 'RCOMP', 'SBDATE', 'CLOSE CODE', 'SEV',\n       'RREL', 'RCDATE', 'HIPER', 'SEC/INT', 'FCOMP', 'CLDATE', 'PE', 'PFREL',\n       'FAILURE KEYWORD', 'MODULES/MACROS', 'APPLICABLE LVL', 'function?',\n       'version?', 'ABSTRACT', 'ERROR DESCRIPTION', 'LOCAL FIX',\n       'USERS AFFECTED', 'PROBLEM DESCRIPTION', 'RECOMMENDATION',\n       'OPTIONAL ERROR DESCRIPTION', 'PROBLEM CONCLUSION', 'TEMPORARY FIX',\n       'COMMENTS', 'CIRCUMVENTION'],\n      dtype='object')"
                    }, 
                    "output_type": "execute_result"
                }
            ], 
            "source": "df_apar.columns"
        }, 
        {
            "execution_count": 6, 
            "cell_type": "code", 
            "metadata": {}, 
            "outputs": [], 
            "source": "#APAR\u540d\u306e\u5217\u3092\u30a4\u30f3\u30c7\u30c3\u30af\u30b9\u306b\u3059\u308b\ndf_apar.set_index('APAR',drop=True,inplace=True)"
        }, 
        {
            "execution_count": 7, 
            "cell_type": "code", 
            "metadata": {}, 
            "outputs": [], 
            "source": "#\u65e5\u4ed8\u306e\u30d5\u30a9\u30fc\u30de\u30c3\u30c8\u3092DataFrame\u306e\u30d5\u30a9\u30fc\u30de\u30c3\u30c8\u306b\u5909\u63db\ndf_apar[\"SBDATE\"] = pd.to_datetime(df_apar[\"SBDATE\"],format=\"'%y/%m/%d\")\ndf_apar[\"RCDATE\"] = pd.to_datetime(df_apar[\"RCDATE\"],format=\"'%y/%m/%d\")\ndf_apar[\"CLDATE\"] = pd.to_datetime(df_apar[\"CLDATE\"],format=\"'%y/%m/%d\")"
        }, 
        {
            "execution_count": 8, 
            "cell_type": "code", 
            "metadata": {}, 
            "outputs": [
                {
                    "execution_count": 8, 
                    "metadata": {}, 
                    "data": {
                        "text/html": "<div>\n<style scoped>\n    .dataframe tbody tr th:only-of-type {\n        vertical-align: middle;\n    }\n\n    .dataframe tbody tr th {\n        vertical-align: top;\n    }\n\n    .dataframe thead th {\n        text-align: right;\n    }\n</style>\n<table border=\"1\" class=\"dataframe\">\n  <thead>\n    <tr style=\"text-align: right;\">\n      <th></th>\n      <th>SBDATE</th>\n      <th>RCDATE</th>\n      <th>CLDATE</th>\n    </tr>\n    <tr>\n      <th>APAR</th>\n      <th></th>\n      <th></th>\n      <th></th>\n    </tr>\n  </thead>\n  <tbody>\n    <tr>\n      <th>OA31527</th>\n      <td>2009-12-23</td>\n      <td>2009-12-29</td>\n      <td>2010-01-08</td>\n    </tr>\n    <tr>\n      <th>OA31538</th>\n      <td>2010-01-05</td>\n      <td>2010-01-06</td>\n      <td>2010-01-13</td>\n    </tr>\n    <tr>\n      <th>OA30599</th>\n      <td>2009-09-30</td>\n      <td>2009-10-01</td>\n      <td>2010-01-04</td>\n    </tr>\n    <tr>\n      <th>OA30718</th>\n      <td>2009-10-08</td>\n      <td>2009-10-09</td>\n      <td>2010-01-14</td>\n    </tr>\n    <tr>\n      <th>OA30827</th>\n      <td>2009-10-21</td>\n      <td>2009-10-21</td>\n      <td>2010-01-13</td>\n    </tr>\n  </tbody>\n</table>\n</div>", 
                        "text/plain": "            SBDATE     RCDATE     CLDATE\nAPAR                                    \nOA31527 2009-12-23 2009-12-29 2010-01-08\nOA31538 2010-01-05 2010-01-06 2010-01-13\nOA30599 2009-09-30 2009-10-01 2010-01-04\nOA30718 2009-10-08 2009-10-09 2010-01-14\nOA30827 2009-10-21 2009-10-21 2010-01-13"
                    }, 
                    "output_type": "execute_result"
                }
            ], 
            "source": "df_apar[['SBDATE','RCDATE','CLDATE']].head()"
        }, 
        {
            "execution_count": 9, 
            "cell_type": "code", 
            "metadata": {
                "scrolled": true
            }, 
            "outputs": [
                {
                    "output_type": "stream", 
                    "name": "stdout", 
                    "text": "'PE/Y    2809\nName: PE, dtype: int64\n'HIPER/Y    11724\nName: HIPER, dtype: int64\n"
                }
            ], 
            "source": "#PE,HIPER\u5217\u3092\u30ab\u30a6\u30f3\u30c8\nprint(df_apar['PE'].value_counts())\nprint(df_apar['HIPER'].value_counts())"
        }, 
        {
            "execution_count": 10, 
            "cell_type": "code", 
            "metadata": {}, 
            "outputs": [], 
            "source": "#PE\u3001HIPER\u306e\u5217\u306b\u3064\u3044\u3066\u3001PE,HIPER\u306b\u8a72\u5f53\u3059\u308b\u5024\u30921\u306b\u5909\u63db\u3059\u308b\ndf_apar['PE'] = df_apar['PE'].str.replace(\"'PE/Y\", \"1\")\ndf_apar['HIPER'] = df_apar['HIPER'].str.replace(\"'HIPER/Y\", \"1\")\n\n#PE\u3001HIPER\u306e\u5217\u306b\u3064\u3044\u3066\u3001\u5024\u304c\u5165\u3063\u3066\u3044\u306a\u3044NaN\u3092\u30010\u306b\u5909\u63db\u3059\u308b\ndf_apar['PE'] = df_apar['PE'].fillna(0)\ndf_apar['HIPER'] = df_apar['HIPER'].fillna(0)\n\n#PE\u3001HIPER\u306e\u5217\u306b\u3064\u3044\u3066\u30010,1 \u306e\u5024\u3092boolean\u5f62\u5f0f\u306b\u5909\u63db\u3059\u308b\ndf_apar['PE'] = df_apar['PE'].astype(bool)\ndf_apar['HIPER'] = df_apar['HIPER'].astype(bool)"
        }, 
        {
            "execution_count": 11, 
            "cell_type": "code", 
            "metadata": {}, 
            "outputs": [], 
            "source": "df_apar['COMMENTS'] = df_apar['COMMENTS'].fillna('none')\n#PE\u3092\u8d77\u3053\u3057\u305fPTF\u3092\u691c\u51fa\u3002comment\u6b04\u306b\u300cIN ERROR. SEE APAR\u300d\u304c\u8a18\u8f09\u3055\u308c\u3066\u3044\u308b\u5217\u3092PE_involve=True\u3068\u3057\u3001\u7121\u3044\u5834\u5408\u306fFalse\u3068\u3059\u308b\u3002\ndf_apar['PE_involve'] = False\n#df_apar.loc[df_apar['COMMENTS'].str.contains('IN ERROR. SEE APAR'),'PE_involve'] = True\n#df_apar.loc[df_apar['COMMENTS'].str.contains('IN ERROR.SEE APAR'),'PE_involve'] = True\ndf_apar.loc[df_apar['COMMENTS'].str.contains(r\"PE\\d+/\\d+/\\d+\"),'PE_involve'] = True"
        }, 
        {
            "execution_count": 12, 
            "cell_type": "code", 
            "metadata": {}, 
            "outputs": [
                {
                    "output_type": "stream", 
                    "name": "stdout", 
                    "text": "PE_involve\u306e\u6570: 403\nPE_involve\u306e\u5272\u5408(%): 1.1195066392577364\n"
                }
            ], 
            "source": "#PE_involve\u306e\u4ef6\u6570\u3092\u78ba\u8a8d\na = len(df_apar[df_apar['PE_involve']==True])\nb = len(df_apar)\nprint('PE_involve\u306e\u6570:',a)\nprint('PE_involve\u306e\u5272\u5408(%):',(a/b)*100)"
        }, 
        {
            "execution_count": 13, 
            "cell_type": "code", 
            "metadata": {}, 
            "outputs": [
                {
                    "execution_count": 13, 
                    "metadata": {}, 
                    "data": {
                        "text/html": "<div>\n<style scoped>\n    .dataframe tbody tr th:only-of-type {\n        vertical-align: middle;\n    }\n\n    .dataframe tbody tr th {\n        vertical-align: top;\n    }\n\n    .dataframe thead th {\n        text-align: right;\n    }\n</style>\n<table border=\"1\" class=\"dataframe\">\n  <thead>\n    <tr style=\"text-align: right;\">\n      <th></th>\n      <th>PE</th>\n      <th>HIPER</th>\n      <th>PE_involve</th>\n    </tr>\n    <tr>\n      <th>APAR</th>\n      <th></th>\n      <th></th>\n      <th></th>\n    </tr>\n  </thead>\n  <tbody>\n    <tr>\n      <th>OA31527</th>\n      <td>False</td>\n      <td>False</td>\n      <td>False</td>\n    </tr>\n    <tr>\n      <th>OA31538</th>\n      <td>True</td>\n      <td>False</td>\n      <td>False</td>\n    </tr>\n    <tr>\n      <th>OA30599</th>\n      <td>False</td>\n      <td>True</td>\n      <td>False</td>\n    </tr>\n    <tr>\n      <th>OA30718</th>\n      <td>False</td>\n      <td>True</td>\n      <td>False</td>\n    </tr>\n    <tr>\n      <th>OA30827</th>\n      <td>False</td>\n      <td>True</td>\n      <td>False</td>\n    </tr>\n  </tbody>\n</table>\n</div>", 
                        "text/plain": "            PE  HIPER  PE_involve\nAPAR                             \nOA31527  False  False       False\nOA31538   True  False       False\nOA30599  False   True       False\nOA30718  False   True       False\nOA30827  False   True       False"
                    }, 
                    "output_type": "execute_result"
                }
            ], 
            "source": "df_apar[['PE','HIPER','PE_involve']].head()"
        }, 
        {
            "execution_count": 14, 
            "cell_type": "code", 
            "metadata": {}, 
            "outputs": [], 
            "source": "# \u4fee\u6b63\u307e\u3067\u306e\u65e5\u6570\u3092\u5217\u306b\u8ffd\u52a0\u3002\uff08\u5217\u540d\u3092\u8981\u78ba\u8a8d\uff09\ndf_apar['days_to_aparclose'] = df_apar['CLDATE']-df_apar['SBDATE']\ndf_apar['days_to_aparclose'] = df_apar['days_to_aparclose'].dt.days"
        }, 
        {
            "execution_count": 15, 
            "cell_type": "code", 
            "metadata": {}, 
            "outputs": [
                {
                    "execution_count": 15, 
                    "metadata": {}, 
                    "data": {
                        "text/plain": "count    35998.000000\nmean        68.494861\nstd         85.888812\nmin          0.000000\n25%         20.000000\n50%         44.000000\n75%         84.000000\nmax       1535.000000\nName: days_to_aparclose, dtype: float64"
                    }, 
                    "output_type": "execute_result"
                }
            ], 
            "source": "df_apar['days_to_aparclose'].describe()"
        }, 
        {
            "execution_count": 16, 
            "cell_type": "code", 
            "metadata": {}, 
            "outputs": [
                {
                    "execution_count": 16, 
                    "metadata": {}, 
                    "data": {
                        "text/plain": "<matplotlib.axes._subplots.AxesSubplot at 0x7f8720178898>"
                    }, 
                    "output_type": "execute_result"
                }, 
                {
                    "output_type": "display_data", 
                    "data": {
                        "image/png": "[encoded data removed]", 
                        "text/plain": "<matplotlib.figure.Figure at 0x7f8728847c18>"
                    }, 
                    "metadata": {}
                }
            ], 
            "source": "#\u4fee\u6b63\u307e\u3067\u306e\u65e5\u6570\u3092\u30d7\u30ed\u30c3\u30c8\u3057\u3066\u307f\u308b\ndf_apar['days_to_aparclose'].plot.hist()"
        }, 
        {
            "execution_count": 17, 
            "cell_type": "code", 
            "metadata": {}, 
            "outputs": [], 
            "source": "#SEV\u306e\u5217\u306e' \u3092\u524a\u9664\u3002\u305d\u308c\u305e\u308c\u306b\u5bfe\u5fdc\u3059\u308b\u5909\u6570\u5217\u3092\u8ffd\u52a0\ndf_apar['SEV'] = df_apar['SEV'].str.replace(\"'\", \"\")\ndf_apar = pd.get_dummies(df_apar, columns=[\"SEV\"])"
        }, 
        {
            "execution_count": 18, 
            "cell_type": "code", 
            "metadata": {}, 
            "outputs": [
                {
                    "output_type": "stream", 
                    "name": "stdout", 
                    "text": "\u4fee\u6b63\u307e\u3067\u306b100\u65e5\u4ee5\u4e0a\u639b\u304b\u3063\u305f\u4ef6\u6570: 6719\n\u4fee\u6b63\u307e\u3067\u306b100\u65e5\u4ee5\u4e0a\u639b\u304b\u3063\u305f\u7269\u306e\u3046\u3061\u3001PE\u306b\u306a\u3063\u305f\u6570: 132\n\u4fee\u6b63\u307e\u3067\u306b100\u65e5\u4ee5\u4e0a\u639b\u304b\u3063\u305f\u7269\u306e\u3046\u3061\u3001PE\u306b\u306a\u3063\u305f\u5272\u5408(%): 1.9645780622116389\nHIPER\u3067\u4fee\u6b63\u307e\u3067\u306b100\u65e5\u4ee5\u4e0a\u639b\u304b\u3063\u305f\u4ef6\u6570: 2091\nHIPER\u3067\u4fee\u6b63\u307e\u3067\u306b100\u65e5\u4ee5\u4e0a\u639b\u304b\u3063\u305f\u7269\u306e\u3046\u3061\u3001PE\u306b\u306a\u3063\u305f\u6570: 20\nHIPER\u3067\u4fee\u6b63\u307e\u3067\u306b100\u65e5\u4ee5\u4e0a\u639b\u304b\u3063\u305f\u7269\u306e\u3046\u3061\u3001PE\u306b\u306a\u3063\u305f\u5272\u5408(%): 0.9564801530368245\n"
                }
            ], 
            "source": "#\u4fee\u6b63\u307e\u3067\u306b100\u65e5\u4ee5\u4e0a\u639b\u304b\u3063\u3066\u3044\u308bAPAR\u306ePE\u7387\u3092\u7b97\u51fa\na = len(df_apar[df_apar['days_to_aparclose'] > 100])\nprint('\u4fee\u6b63\u307e\u3067\u306b100\u65e5\u4ee5\u4e0a\u639b\u304b\u3063\u305f\u4ef6\u6570:',a)\nb = len(df_apar[(df_apar['days_to_aparclose'] > 100)&(df_apar['PE_involve'] == True)])\nprint('\u4fee\u6b63\u307e\u3067\u306b100\u65e5\u4ee5\u4e0a\u639b\u304b\u3063\u305f\u7269\u306e\u3046\u3061\u3001PE\u306b\u306a\u3063\u305f\u6570:',b)\nprint('\u4fee\u6b63\u307e\u3067\u306b100\u65e5\u4ee5\u4e0a\u639b\u304b\u3063\u305f\u7269\u306e\u3046\u3061\u3001PE\u306b\u306a\u3063\u305f\u5272\u5408(%):',(b/a)*100)\n\n#HIPER\u3067\u3001\u4fee\u6b63\u307e\u3067\u306b100\u65e5\u4ee5\u4e0a\u639b\u304b\u3063\u3066\u3044\u308bAPAR\u306ePE\u7387\u3092\u7b97\u51fa\nc = len(df_apar[(df_apar['days_to_aparclose'] > 100)&(df_apar['HIPER'] == True)])\nprint('HIPER\u3067\u4fee\u6b63\u307e\u3067\u306b100\u65e5\u4ee5\u4e0a\u639b\u304b\u3063\u305f\u4ef6\u6570:',c)\nd = len(df_apar[(df_apar['days_to_aparclose'] > 100)&(df_apar['PE_involve'] == True)&(df_apar['HIPER'] == True)])\nprint('HIPER\u3067\u4fee\u6b63\u307e\u3067\u306b100\u65e5\u4ee5\u4e0a\u639b\u304b\u3063\u305f\u7269\u306e\u3046\u3061\u3001PE\u306b\u306a\u3063\u305f\u6570:',d)\nprint('HIPER\u3067\u4fee\u6b63\u307e\u3067\u306b100\u65e5\u4ee5\u4e0a\u639b\u304b\u3063\u305f\u7269\u306e\u3046\u3061\u3001PE\u306b\u306a\u3063\u305f\u5272\u5408(%):',(d/c)*100)"
        }, 
        {
            "execution_count": 19, 
            "cell_type": "code", 
            "metadata": {}, 
            "outputs": [
                {
                    "output_type": "stream", 
                    "name": "stdout", 
                    "text": "PE\u4fee\u6b63\u306e\u6570: 2809\nPE\u4fee\u6b63\u304cPE\u306b\u306a\u3063\u305f\u6570: 72\nPE\u4fee\u6b63\u304cPE\u306b\u306a\u3063\u305f\u5272\u5408(%): 2.5631897472410112\n"
                }
            ], 
            "source": "#PE\u4fee\u6b63\u304c\u3055\u3089\u306bPE\u306b\u306a\u308b\u7387\u3092\u78ba\u8a8d\na = len(df_apar[df_apar['PE']==True]) #PE\u4fee\u6b63\u306e\u6570\nb = len(df_apar[(df_apar['PE']==True) & (df_apar['PE_involve']==True)]) #PE\u4fee\u6b63\u304cPE\u306b\u306a\u3063\u305f\u6570\nprint('PE\u4fee\u6b63\u306e\u6570:',a)\nprint('PE\u4fee\u6b63\u304cPE\u306b\u306a\u3063\u305f\u6570:',b)\nprint('PE\u4fee\u6b63\u304cPE\u306b\u306a\u3063\u305f\u5272\u5408(%):',(b/a)*100)"
        }, 
        {
            "execution_count": 20, 
            "cell_type": "code", 
            "metadata": {}, 
            "outputs": [], 
            "source": "#COMMENTS\u5217\u304b\u3089\"PExx/xx/xx\" \u306e\u65e5\u4ed8\u30d5\u30a9\u30fc\u30de\u30c3\u30c8\u306e\u6587\u5b57\u5217\u3092\u691c\u7d22\u3057\u3001PE\u304c\u767a\u751f\u3057\u305f\u65e5\u4ed8\uff1a\"PE_date\"\u3068\u3057\u3066\u5217\u3092\u8ffd\u52a0\n#df_apar['PE_date'] = df_apar['COMMENTS'].str.findall(r\"PE\\d+/\\d+/\\d+\")\ndf_apar['PE_date'] = df_apar['COMMENTS'].str.findall(r\"PE\\d+/\\d+/\\d+\")"
        }, 
        {
            "execution_count": 21, 
            "cell_type": "code", 
            "metadata": {}, 
            "outputs": [
                {
                    "execution_count": 21, 
                    "metadata": {}, 
                    "data": {
                        "text/plain": "'IN INCORROUT       14118\n'AB ABEND            7251\n'AB ABEND0C4         1401\n'PR PERFM             982\n'NF NEW FUNCTION      926\n'NF NEWFUNCTION       760\n'AB ABEND04E          650\n'LP LOOP              524\n'MS MSG               482\n'AB ABENDS0C4         385\n'WS WAIT              377\n'NF NEWFUNCT          304\n'IN IN                264\n'IN INCORRECT         218\n'IN INCORR            205\n'MS MESSAGE           198\n'AB INCORROUT         192\n'NF New Function      173\n'NF INCORROUT         171\n'AB ABENDxxx          171\n'NF NEWFUNC           151\n'MI MSG               135\n'PR PERFORMANCE       109\n'NF FUNCTION          105\n'IN INCOROUT          104\n'NF NF                100\n'AB ABEND0C1          100\n'AB MSG                94\n'IN ABEND              93\n'AB ABEND878           91\n                    ...  \n'WS WAIT040             1\n'MS MSGDSNV508I         1\n'AB SRCME0121           1\n'MS RC01000010          1\n'MS MSGaxr0111i         1\n'MS MSGIEF086I          1\n'MS MSGOBRTMP           1\n'AB ABENDS13E           1\n'MS MSGIEE711I          1\n'MS MSGCQM2604E         1\n'MS MSGDFS395I          1\n'MS MSGhwi001           1\n'MS MSGICEP500I         1\n'WS WAIT08A             1\n'AB ABENDDC4            1\n'MS MSGERB483I          1\n'AB ABENDS0C8           1\n'AB SRCEYU9NXLM         1\n'MS MSGANTF0355E        1\n'AB ABENDS513           1\n'NF 0C4                 1\n'AB ABENDRC08           1\n'AB ABEND2049           1\n'MS MSGIYUCM0000        1\n'MS DSNU049I            1\n'AB ABEND837            1\n'IN N                   1\n'IN IFCID 144           1\n'MS MSGIEE178I          1\n'MS MSGIRRC052I         1\nName: FAILURE KEYWORD, Length: 1958, dtype: int64"
                    }, 
                    "output_type": "execute_result"
                }
            ], 
            "source": "df_apar['FAILURE KEYWORD'].value_counts()"
        }, 
        {
            "execution_count": 22, 
            "cell_type": "code", 
            "metadata": {}, 
            "outputs": [], 
            "source": "#FAILURE KEYWORD\u306e\u5217\u306e\u6587\u5b57\u5217\u306e\u6700\u521d\u304b\u30893\u6587\u5b57\u76ee\u307e\u3067\u3092\u629c\u7c8b\u3057\u3001FAILURE_KEY\u5217\u3068\u3057\u3066\u8ffd\u52a0\ndf_apar['FAILURE_KEY'] = df_apar['FAILURE KEYWORD'].str[0:3]"
        }, 
        {
            "execution_count": 23, 
            "cell_type": "code", 
            "metadata": {}, 
            "outputs": [
                {
                    "execution_count": 23, 
                    "metadata": {}, 
                    "data": {
                        "text/plain": "'IN    15602\n'AB    12339\n'NF     3105\n'MS     1843\n'PR     1165\n'LP      577\n'WS      479\n'PF      308\n'MI      148\n'UN      117\n'UR      102\n'DD       78\n'AI       69\n'AE       37\n'HL       24\n'MC        4\n'IG        1\nName: FAILURE_KEY, dtype: int64"
                    }, 
                    "output_type": "execute_result"
                }
            ], 
            "source": "df_apar['FAILURE_KEY'].value_counts()"
        }, 
        {
            "execution_count": 24, 
            "cell_type": "code", 
            "metadata": {}, 
            "outputs": [
                {
                    "output_type": "stream", 
                    "name": "stdout", 
                    "text": "FAILURE KEYWORD\u5217\u304cIN\u306e\u6570: 15602\nPE_involve\u6570: 162\nPE_involve\u306e\u5272\u5408(%): 1.0383284194334061\nFAILURE KEYWORD\u5217\u304cAB\u306e\u6570: 12339\nPE_involve\u6570: 87\nPE_involve\u306e\u5272\u5408(%): 0.7050814490639437\nFAILURE KEYWORD\u5217\u304cNF\u306e\u6570: 3105\nPE_involve\u6570: 108\nPE_involve\u306e\u5272\u5408(%): 3.4782608695652173\nFAILURE KEYWORD\u5217\u304cMS\u306e\u6570: 1843\nPE_involve\u6570: 15\nPE_involve\u306e\u5272\u5408(%): 0.8138903960933261\nFAILURE KEYWORD\u5217\u304cPR\u306e\u6570: 1165\nPE_involve\u6570: 13\nPE_involve\u306e\u5272\u5408(%): 1.1158798283261802\n"
                }
            ], 
            "source": "#FAILURE KEYWORD\u5217\u306e\u4e0a\u4f4d5\u3064\u306b\u3064\u3044\u3066\u3001PE\u6570\u3092\u78ba\u8a8d\na = len(df_apar[df_apar['FAILURE_KEY'] == \"'IN\"])\nb = len(df_apar[(df_apar['FAILURE_KEY'] == \"'IN\")&(df_apar['PE_involve'] == True)])\nprint('FAILURE KEYWORD\u5217\u304cIN\u306e\u6570:',a)\nprint('PE_involve\u6570:',b)\nprint('PE_involve\u306e\u5272\u5408(%):',(b/a)*100)\n\na = len(df_apar[df_apar['FAILURE_KEY'] == \"'AB\"])\nb = len(df_apar[(df_apar['FAILURE_KEY'] == \"'AB\")&(df_apar['PE_involve'] == True)])\nprint('FAILURE KEYWORD\u5217\u304cAB\u306e\u6570:',a)\nprint('PE_involve\u6570:',b)\nprint('PE_involve\u306e\u5272\u5408(%):',(b/a)*100)\n\na = len(df_apar[df_apar['FAILURE_KEY'] == \"'NF\"])\nb = len(df_apar[(df_apar['FAILURE_KEY'] == \"'NF\")&(df_apar['PE_involve'] == True)])\nprint('FAILURE KEYWORD\u5217\u304cNF\u306e\u6570:',a)\nprint('PE_involve\u6570:',b)\nprint('PE_involve\u306e\u5272\u5408(%):',(b/a)*100)\n\na = len(df_apar[df_apar['FAILURE_KEY'] == \"'MS\"])\nb = len(df_apar[(df_apar['FAILURE_KEY'] == \"'MS\")&(df_apar['PE_involve'] == True)])\nprint('FAILURE KEYWORD\u5217\u304cMS\u306e\u6570:',a)\nprint('PE_involve\u6570:',b)\nprint('PE_involve\u306e\u5272\u5408(%):',(b/a)*100)\n\na = len(df_apar[df_apar['FAILURE_KEY'] == \"'PR\"])\nb = len(df_apar[(df_apar['FAILURE_KEY'] == \"'PR\")&(df_apar['PE_involve'] == True)])\nprint('FAILURE KEYWORD\u5217\u304cPR\u306e\u6570:',a)\nprint('PE_involve\u6570:',b)\nprint('PE_involve\u306e\u5272\u5408(%):',(b/a)*100)"
        }, 
        {
            "source": "\u30fbAPAR\u304copen\u3055\u308c\u3066\u304b\u3089\u3001PE\u3068\u3057\u3066\u8a8d\u8b58\u3055\u308c\u308b\u307e\u3067\u306e\u671f\u9593\u3092\u691c\u8a3c\u3000\u30cd\u30bf\u5143\uff1a\u5c0f\u6ca2\u3055\u3093\n\nPExx/xx/xx\nAExx/xx/xx \u306e\u9055\u3044\u306f\uff1f", 
            "cell_type": "markdown", 
            "metadata": {}
        }, 
        {
            "execution_count": 25, 
            "cell_type": "code", 
            "metadata": {}, 
            "outputs": [], 
            "source": "pe_involve = df_apar[df_apar['PE_involve']==True]\n\npe_date = pe_involve['PE_date'].tolist()"
        }, 
        {
            "execution_count": 26, 
            "cell_type": "code", 
            "metadata": {}, 
            "outputs": [], 
            "source": "dates = [[x.replace('PE','') for x in l] for l in pe_date]"
        }, 
        {
            "execution_count": 27, 
            "cell_type": "code", 
            "metadata": {}, 
            "outputs": [], 
            "source": "open_date = [min(l) for l in dates]"
        }, 
        {
            "execution_count": 28, 
            "cell_type": "code", 
            "metadata": {}, 
            "outputs": [
                {
                    "output_type": "stream", 
                    "name": "stderr", 
                    "text": "/opt/conda/envs/DSX-Python35/lib/python3.5/site-packages/ipykernel/__main__.py:1: SettingWithCopyWarning: \nA value is trying to be set on a copy of a slice from a DataFrame.\nTry using .loc[row_indexer,col_indexer] = value instead\n\nSee the caveats in the documentation: http://pandas.pydata.org/pandas-docs/stable/indexing.html#indexing-view-versus-copy\n  if __name__ == '__main__':\n"
                }
            ], 
            "source": "pe_involve['PE_date'] = pd.to_datetime(open_date,format=\"%y/%m/%d\")"
        }, 
        {
            "execution_count": 29, 
            "cell_type": "code", 
            "metadata": {}, 
            "outputs": [
                {
                    "output_type": "stream", 
                    "name": "stderr", 
                    "text": "/opt/conda/envs/DSX-Python35/lib/python3.5/site-packages/ipykernel/__main__.py:1: SettingWithCopyWarning: \nA value is trying to be set on a copy of a slice from a DataFrame.\nTry using .loc[row_indexer,col_indexer] = value instead\n\nSee the caveats in the documentation: http://pandas.pydata.org/pandas-docs/stable/indexing.html#indexing-view-versus-copy\n  if __name__ == '__main__':\n/opt/conda/envs/DSX-Python35/lib/python3.5/site-packages/ipykernel/__main__.py:2: SettingWithCopyWarning: \nA value is trying to be set on a copy of a slice from a DataFrame.\nTry using .loc[row_indexer,col_indexer] = value instead\n\nSee the caveats in the documentation: http://pandas.pydata.org/pandas-docs/stable/indexing.html#indexing-view-versus-copy\n  from ipykernel import kernelapp as app\n"
                }
            ], 
            "source": "pe_involve['days_to_pe'] = pe_involve['PE_date']-pe_involve['CLDATE']\npe_involve['days_to_pe'] = pe_involve['days_to_pe'].dt.days"
        }, 
        {
            "execution_count": 30, 
            "cell_type": "code", 
            "metadata": {}, 
            "outputs": [
                {
                    "execution_count": 30, 
                    "metadata": {}, 
                    "data": {
                        "text/plain": "count    403.000000\nmean      69.014888\nstd       89.373106\nmin      -40.000000\n25%       14.000000\n50%       33.000000\n75%       86.000000\nmax      433.000000\nName: days_to_pe, dtype: float64"
                    }, 
                    "output_type": "execute_result"
                }
            ], 
            "source": "pe_involve['days_to_pe'].describe()"
        }, 
        {
            "execution_count": 31, 
            "cell_type": "code", 
            "metadata": {}, 
            "outputs": [
                {
                    "execution_count": 31, 
                    "metadata": {}, 
                    "data": {
                        "text/plain": "Text(0,0.5,'Number of PE')"
                    }, 
                    "output_type": "execute_result"
                }, 
                {
                    "output_type": "display_data", 
                    "data": {
                        "image/png": "[encoded data removed]", 
                        "text/plain": "<matplotlib.figure.Figure at 0x7f8708626898>"
                    }, 
                    "metadata": {}
                }
            ], 
            "source": "pe_involve['days_to_pe'].plot.hist()\nplt.xlabel('Days to be PE')\nplt.ylabel('Number of PE')"
        }, 
        {
            "execution_count": 32, 
            "cell_type": "code", 
            "metadata": {}, 
            "outputs": [
                {
                    "execution_count": 32, 
                    "metadata": {}, 
                    "data": {
                        "text/html": "<div>\n<style scoped>\n    .dataframe tbody tr th:only-of-type {\n        vertical-align: middle;\n    }\n\n    .dataframe tbody tr th {\n        vertical-align: top;\n    }\n\n    .dataframe thead th {\n        text-align: right;\n    }\n</style>\n<table border=\"1\" class=\"dataframe\">\n  <thead>\n    <tr style=\"text-align: right;\">\n      <th></th>\n      <th>SBDATE</th>\n      <th>RCDATE</th>\n      <th>CLDATE</th>\n      <th>PE_date</th>\n    </tr>\n    <tr>\n      <th>APAR</th>\n      <th></th>\n      <th></th>\n      <th></th>\n      <th></th>\n    </tr>\n  </thead>\n  <tbody>\n    <tr>\n      <th>OA43054</th>\n      <td>2013-08-08</td>\n      <td>2013-08-14</td>\n      <td>2013-11-21</td>\n      <td>2013-10-12</td>\n    </tr>\n    <tr>\n      <th>PI86681</th>\n      <td>2017-08-31</td>\n      <td>2017-08-31</td>\n      <td>2017-09-28</td>\n      <td>2017-08-31</td>\n    </tr>\n    <tr>\n      <th>PI82971</th>\n      <td>2017-06-12</td>\n      <td>2017-06-12</td>\n      <td>2017-07-06</td>\n      <td>2017-06-12</td>\n    </tr>\n    <tr>\n      <th>PI70458</th>\n      <td>2016-10-10</td>\n      <td>2016-10-10</td>\n      <td>2016-10-31</td>\n      <td>2016-10-10</td>\n    </tr>\n    <tr>\n      <th>PI67770</th>\n      <td>2016-08-18</td>\n      <td>2016-08-18</td>\n      <td>2016-09-12</td>\n      <td>2016-08-23</td>\n    </tr>\n    <tr>\n      <th>PI81491</th>\n      <td>2017-05-11</td>\n      <td>2017-05-12</td>\n      <td>2017-06-01</td>\n      <td>2017-05-12</td>\n    </tr>\n    <tr>\n      <th>PH03933</th>\n      <td>2018-10-10</td>\n      <td>2018-10-10</td>\n      <td>2018-10-25</td>\n      <td>2018-10-10</td>\n    </tr>\n    <tr>\n      <th>PI63358</th>\n      <td>2016-05-31</td>\n      <td>2016-05-31</td>\n      <td>2016-06-15</td>\n      <td>2016-05-31</td>\n    </tr>\n    <tr>\n      <th>PI77686</th>\n      <td>2017-03-06</td>\n      <td>2017-03-06</td>\n      <td>2017-03-20</td>\n      <td>2017-03-06</td>\n    </tr>\n    <tr>\n      <th>PI85192</th>\n      <td>2017-07-28</td>\n      <td>2017-07-28</td>\n      <td>2017-08-28</td>\n      <td>2017-08-15</td>\n    </tr>\n    <tr>\n      <th>PI33749</th>\n      <td>2015-01-29</td>\n      <td>2015-01-29</td>\n      <td>2015-02-09</td>\n      <td>2015-01-29</td>\n    </tr>\n    <tr>\n      <th>PI60926</th>\n      <td>2016-04-15</td>\n      <td>2016-04-15</td>\n      <td>2016-04-26</td>\n      <td>2016-04-15</td>\n    </tr>\n    <tr>\n      <th>PI73258</th>\n      <td>2016-12-05</td>\n      <td>2016-12-05</td>\n      <td>2016-12-15</td>\n      <td>2016-12-05</td>\n    </tr>\n    <tr>\n      <th>PI56830</th>\n      <td>2016-02-08</td>\n      <td>2016-02-09</td>\n      <td>2016-02-19</td>\n      <td>2016-02-09</td>\n    </tr>\n    <tr>\n      <th>PI47910</th>\n      <td>2015-08-31</td>\n      <td>2015-08-31</td>\n      <td>2015-09-09</td>\n      <td>2015-08-31</td>\n    </tr>\n    <tr>\n      <th>PI64221</th>\n      <td>2016-06-14</td>\n      <td>2016-06-15</td>\n      <td>2016-06-24</td>\n      <td>2016-06-15</td>\n    </tr>\n    <tr>\n      <th>PI80157</th>\n      <td>2017-04-18</td>\n      <td>2017-04-19</td>\n      <td>2017-04-27</td>\n      <td>2017-04-19</td>\n    </tr>\n    <tr>\n      <th>PI83133</th>\n      <td>2017-06-15</td>\n      <td>2017-06-15</td>\n      <td>2017-06-23</td>\n      <td>2017-06-15</td>\n    </tr>\n    <tr>\n      <th>PI90433</th>\n      <td>2017-11-17</td>\n      <td>2017-11-21</td>\n      <td>2017-11-29</td>\n      <td>2017-11-21</td>\n    </tr>\n    <tr>\n      <th>PI66161</th>\n      <td>2016-07-19</td>\n      <td>2016-07-21</td>\n      <td>2016-07-29</td>\n      <td>2016-07-21</td>\n    </tr>\n    <tr>\n      <th>PI37697</th>\n      <td>2015-03-24</td>\n      <td>2015-03-24</td>\n      <td>2015-04-08</td>\n      <td>2015-03-31</td>\n    </tr>\n    <tr>\n      <th>PI98784</th>\n      <td>2018-06-05</td>\n      <td>2018-06-05</td>\n      <td>2018-06-12</td>\n      <td>2018-06-05</td>\n    </tr>\n    <tr>\n      <th>PI69035</th>\n      <td>2016-09-12</td>\n      <td>2016-09-12</td>\n      <td>2016-09-19</td>\n      <td>2016-09-12</td>\n    </tr>\n    <tr>\n      <th>PI49151</th>\n      <td>2015-09-22</td>\n      <td>2015-09-22</td>\n      <td>2015-09-28</td>\n      <td>2015-09-22</td>\n    </tr>\n    <tr>\n      <th>PI39081</th>\n      <td>2015-04-14</td>\n      <td>2015-04-14</td>\n      <td>2015-04-20</td>\n      <td>2015-04-14</td>\n    </tr>\n    <tr>\n      <th>PI93275</th>\n      <td>2018-02-02</td>\n      <td>2018-02-02</td>\n      <td>2018-02-08</td>\n      <td>2018-02-02</td>\n    </tr>\n    <tr>\n      <th>PI39084</th>\n      <td>2015-04-14</td>\n      <td>2015-04-14</td>\n      <td>2015-04-20</td>\n      <td>2015-04-14</td>\n    </tr>\n    <tr>\n      <th>PI90076</th>\n      <td>2017-11-09</td>\n      <td>2017-11-16</td>\n      <td>2017-11-22</td>\n      <td>2017-11-16</td>\n    </tr>\n    <tr>\n      <th>PI93545</th>\n      <td>2018-02-08</td>\n      <td>2018-02-08</td>\n      <td>2018-02-14</td>\n      <td>2018-02-08</td>\n    </tr>\n    <tr>\n      <th>PI50293</th>\n      <td>2015-10-09</td>\n      <td>2015-10-09</td>\n      <td>2015-10-15</td>\n      <td>2015-10-09</td>\n    </tr>\n    <tr>\n      <th>PI63494</th>\n      <td>2016-06-02</td>\n      <td>2016-06-02</td>\n      <td>2016-06-08</td>\n      <td>2016-06-03</td>\n    </tr>\n    <tr>\n      <th>PI49405</th>\n      <td>2015-09-25</td>\n      <td>2015-09-25</td>\n      <td>2015-09-30</td>\n      <td>2015-09-25</td>\n    </tr>\n    <tr>\n      <th>PI51066</th>\n      <td>2015-10-22</td>\n      <td>2015-10-22</td>\n      <td>2015-10-27</td>\n      <td>2015-10-22</td>\n    </tr>\n    <tr>\n      <th>PI59343</th>\n      <td>2016-03-17</td>\n      <td>2016-03-17</td>\n      <td>2016-03-22</td>\n      <td>2016-03-17</td>\n    </tr>\n    <tr>\n      <th>PI61999</th>\n      <td>2016-05-05</td>\n      <td>2016-05-05</td>\n      <td>2016-05-10</td>\n      <td>2016-05-05</td>\n    </tr>\n    <tr>\n      <th>PI55866</th>\n      <td>2016-01-21</td>\n      <td>2016-01-21</td>\n      <td>2016-01-25</td>\n      <td>2016-01-21</td>\n    </tr>\n    <tr>\n      <th>PI65643</th>\n      <td>2016-07-11</td>\n      <td>2016-07-11</td>\n      <td>2016-07-15</td>\n      <td>2016-07-11</td>\n    </tr>\n    <tr>\n      <th>PI35613</th>\n      <td>2015-02-23</td>\n      <td>2015-02-23</td>\n      <td>2015-02-27</td>\n      <td>2015-02-23</td>\n    </tr>\n    <tr>\n      <th>PI50164</th>\n      <td>2015-10-08</td>\n      <td>2015-10-08</td>\n      <td>2015-10-12</td>\n      <td>2015-10-08</td>\n    </tr>\n    <tr>\n      <th>PI88468</th>\n      <td>2017-10-05</td>\n      <td>2017-10-05</td>\n      <td>2017-10-09</td>\n      <td>2017-10-05</td>\n    </tr>\n    <tr>\n      <th>PI62983</th>\n      <td>2016-05-24</td>\n      <td>2016-05-24</td>\n      <td>2016-05-27</td>\n      <td>2016-05-24</td>\n    </tr>\n    <tr>\n      <th>PI51294</th>\n      <td>2015-10-27</td>\n      <td>2015-10-27</td>\n      <td>2015-10-30</td>\n      <td>2015-10-27</td>\n    </tr>\n    <tr>\n      <th>PI55992</th>\n      <td>2016-01-25</td>\n      <td>2016-01-25</td>\n      <td>2016-01-28</td>\n      <td>2016-01-25</td>\n    </tr>\n    <tr>\n      <th>PI87794</th>\n      <td>2017-09-22</td>\n      <td>2017-09-22</td>\n      <td>2017-09-25</td>\n      <td>2017-09-22</td>\n    </tr>\n    <tr>\n      <th>PI99078</th>\n      <td>2018-06-12</td>\n      <td>2018-06-12</td>\n      <td>2018-06-14</td>\n      <td>2018-06-12</td>\n    </tr>\n    <tr>\n      <th>PI86967</th>\n      <td>2017-09-07</td>\n      <td>2017-09-07</td>\n      <td>2017-09-15</td>\n      <td>2017-09-14</td>\n    </tr>\n    <tr>\n      <th>PI85311</th>\n      <td>2017-08-01</td>\n      <td>2017-08-02</td>\n      <td>2017-09-14</td>\n      <td>2017-09-14</td>\n    </tr>\n  </tbody>\n</table>\n</div>", 
                        "text/plain": "            SBDATE     RCDATE     CLDATE    PE_date\nAPAR                                               \nOA43054 2013-08-08 2013-08-14 2013-11-21 2013-10-12\nPI86681 2017-08-31 2017-08-31 2017-09-28 2017-08-31\nPI82971 2017-06-12 2017-06-12 2017-07-06 2017-06-12\nPI70458 2016-10-10 2016-10-10 2016-10-31 2016-10-10\nPI67770 2016-08-18 2016-08-18 2016-09-12 2016-08-23\nPI81491 2017-05-11 2017-05-12 2017-06-01 2017-05-12\nPH03933 2018-10-10 2018-10-10 2018-10-25 2018-10-10\nPI63358 2016-05-31 2016-05-31 2016-06-15 2016-05-31\nPI77686 2017-03-06 2017-03-06 2017-03-20 2017-03-06\nPI85192 2017-07-28 2017-07-28 2017-08-28 2017-08-15\nPI33749 2015-01-29 2015-01-29 2015-02-09 2015-01-29\nPI60926 2016-04-15 2016-04-15 2016-04-26 2016-04-15\nPI73258 2016-12-05 2016-12-05 2016-12-15 2016-12-05\nPI56830 2016-02-08 2016-02-09 2016-02-19 2016-02-09\nPI47910 2015-08-31 2015-08-31 2015-09-09 2015-08-31\nPI64221 2016-06-14 2016-06-15 2016-06-24 2016-06-15\nPI80157 2017-04-18 2017-04-19 2017-04-27 2017-04-19\nPI83133 2017-06-15 2017-06-15 2017-06-23 2017-06-15\nPI90433 2017-11-17 2017-11-21 2017-11-29 2017-11-21\nPI66161 2016-07-19 2016-07-21 2016-07-29 2016-07-21\nPI37697 2015-03-24 2015-03-24 2015-04-08 2015-03-31\nPI98784 2018-06-05 2018-06-05 2018-06-12 2018-06-05\nPI69035 2016-09-12 2016-09-12 2016-09-19 2016-09-12\nPI49151 2015-09-22 2015-09-22 2015-09-28 2015-09-22\nPI39081 2015-04-14 2015-04-14 2015-04-20 2015-04-14\nPI93275 2018-02-02 2018-02-02 2018-02-08 2018-02-02\nPI39084 2015-04-14 2015-04-14 2015-04-20 2015-04-14\nPI90076 2017-11-09 2017-11-16 2017-11-22 2017-11-16\nPI93545 2018-02-08 2018-02-08 2018-02-14 2018-02-08\nPI50293 2015-10-09 2015-10-09 2015-10-15 2015-10-09\nPI63494 2016-06-02 2016-06-02 2016-06-08 2016-06-03\nPI49405 2015-09-25 2015-09-25 2015-09-30 2015-09-25\nPI51066 2015-10-22 2015-10-22 2015-10-27 2015-10-22\nPI59343 2016-03-17 2016-03-17 2016-03-22 2016-03-17\nPI61999 2016-05-05 2016-05-05 2016-05-10 2016-05-05\nPI55866 2016-01-21 2016-01-21 2016-01-25 2016-01-21\nPI65643 2016-07-11 2016-07-11 2016-07-15 2016-07-11\nPI35613 2015-02-23 2015-02-23 2015-02-27 2015-02-23\nPI50164 2015-10-08 2015-10-08 2015-10-12 2015-10-08\nPI88468 2017-10-05 2017-10-05 2017-10-09 2017-10-05\nPI62983 2016-05-24 2016-05-24 2016-05-27 2016-05-24\nPI51294 2015-10-27 2015-10-27 2015-10-30 2015-10-27\nPI55992 2016-01-25 2016-01-25 2016-01-28 2016-01-25\nPI87794 2017-09-22 2017-09-22 2017-09-25 2017-09-22\nPI99078 2018-06-12 2018-06-12 2018-06-14 2018-06-12\nPI86967 2017-09-07 2017-09-07 2017-09-15 2017-09-14\nPI85311 2017-08-01 2017-08-02 2017-09-14 2017-09-14"
                    }, 
                    "output_type": "execute_result"
                }
            ], 
            "source": "pe_involve[pe_involve['days_to_pe'] < 1].sort_values(by=['days_to_pe'])[['SBDATE','RCDATE','CLDATE','PE_date']]"
        }, 
        {
            "execution_count": 33, 
            "cell_type": "code", 
            "metadata": {}, 
            "outputs": [], 
            "source": "#pe_involve.loc['OA43054']['COMMENTS']"
        }, 
        {
            "execution_count": 34, 
            "cell_type": "code", 
            "metadata": {}, 
            "outputs": [], 
            "source": "#pe_involve.loc['PI98784']"
        }, 
        {
            "source": "\u30fbRCOMP\u306e\u30b3\u30f3\u30dd\u30fc\u30cd\u30f3\u30c8\u6bce\u306eGA\u304b\u3089\u306ePE\u6570\u3092\u6642\u7cfb\u5217\u5316\n->\u5148\u306b\u5168APAR\u60c5\u5831\u306b\u3064\u3044\u3066RCOMP\u304c\u591a\u3044\u9806\u306b\u30bd\u30fc\u30c8\u3057\u3066\u3001\u4e00\u756a\u591a\u3044\u88fd\u54c1\u306b\u95a2\u3057\u3066RREL\u6bce\u306bGA\u65e5\u304b\u3089\u306ePE\u65e5\u6570\u3092\u898b\u308b\n\n\u4e0a\u4f4d5\u3064\u306e\u3082\u306e\u3067\u305d\u308c\u305e\u308c5\u3064df\u3092\u4f5c\u3063\u3066\u3001GA\u65e5\u3092\u8a2d\u5b9a\u3057\u3066\u3001\u767a\u751f\u65e5\u3092bin\u306b\u3057\u3066PE_date\u3092plot\u3057\u3066\u3044\u304f\uff1f\n\n", 
            "cell_type": "markdown", 
            "metadata": {}
        }, 
        {
            "execution_count": 35, 
            "cell_type": "code", 
            "metadata": {}, 
            "outputs": [
                {
                    "execution_count": 35, 
                    "metadata": {}, 
                    "data": {
                        "text/plain": "'5740XYR00    8568\n'5635A0400    1486\n'5635A0300    1186\n'5655R3600     944\n'5655Y0400     937\nName: RCOMP, dtype: int64"
                    }, 
                    "output_type": "execute_result"
                }
            ], 
            "source": "#pe_involve['RCOMP'].value_counts().head()\ndf_apar['RCOMP'].value_counts().head()"
        }, 
        {
            "execution_count": 36, 
            "cell_type": "code", 
            "metadata": {}, 
            "outputs": [
                {
                    "execution_count": 36, 
                    "metadata": {}, 
                    "data": {
                        "text/plain": "'R910    6\n'RC10    4\n'RA10    4\n'R810    3\n'RB10    1\nName: RREL, dtype: int64"
                    }, 
                    "output_type": "execute_result"
                }
            ], 
            "source": "#pe_involve[pe_involve['RCOMP']== \"'5655X0100\"][['RCOMP','RREL']]\npe_involve[pe_involve['RCOMP']== \"'5740XYR00\"]['RREL'].value_counts()"
        }, 
        {
            "execution_count": 37, 
            "cell_type": "code", 
            "metadata": {}, 
            "outputs": [
                {
                    "execution_count": 37, 
                    "metadata": {}, 
                    "data": {
                        "text/plain": "'R300    11\n'R302     1\nName: RREL, dtype: int64"
                    }, 
                    "output_type": "execute_result"
                }
            ], 
            "source": "#pe_involve[pe_involve['RCOMP']== \"'5740XYR00\"][['RCOMP','RREL']]\npe_involve[pe_involve['RCOMP']== \"'5635A0400\"]['RREL'].value_counts()"
        }, 
        {
            "execution_count": 38, 
            "cell_type": "code", 
            "metadata": {}, 
            "outputs": [
                {
                    "execution_count": 38, 
                    "metadata": {}, 
                    "data": {
                        "text/plain": "'R200    14\n'R202     2\nName: RREL, dtype: int64"
                    }, 
                    "output_type": "execute_result"
                }
            ], 
            "source": "#pe_involve[pe_involve['RCOMP']== \"'694235B00\"][['RCOMP','RREL']]\npe_involve[pe_involve['RCOMP']== \"'5635A0300\"]['RREL'].value_counts()"
        }, 
        {
            "execution_count": 39, 
            "cell_type": "code", 
            "metadata": {}, 
            "outputs": [
                {
                    "execution_count": 39, 
                    "metadata": {}, 
                    "data": {
                        "text/plain": "'R010    7\n'R100    6\nName: RREL, dtype: int64"
                    }, 
                    "output_type": "execute_result"
                }
            ], 
            "source": "pe_involve[pe_involve['RCOMP']== \"'5655R3600\"]['RREL'].value_counts()"
        }, 
        {
            "execution_count": 40, 
            "cell_type": "code", 
            "metadata": {}, 
            "outputs": [
                {
                    "execution_count": 40, 
                    "metadata": {}, 
                    "data": {
                        "text/plain": "'R800    7\n'R900    1\n'R00M    1\n'R100    1\nName: RREL, dtype: int64"
                    }, 
                    "output_type": "execute_result"
                }
            ], 
            "source": "pe_involve[pe_involve['RCOMP']== \"'5655Y0400\"]['RREL'].value_counts()"
        }, 
        {
            "execution_count": null, 
            "cell_type": "code", 
            "metadata": {}, 
            "outputs": [], 
            "source": ""
        }
    ], 
    "metadata": {
        "kernelspec": {
            "display_name": "Python 3.5", 
            "name": "python3", 
            "language": "python"
        }, 
        "language_info": {
            "mimetype": "text/x-python", 
            "nbconvert_exporter": "python", 
            "version": "3.5.5", 
            "name": "python", 
            "file_extension": ".py", 
            "pygments_lexer": "ipython3", 
            "codemirror_mode": {
                "version": 3, 
                "name": "ipython"
            }
        }
    }, 
    "nbformat": 4
}