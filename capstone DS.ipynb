{
    "nbformat_minor": 1, 
    "cells": [
        {
            "execution_count": 1, 
            "cell_type": "code", 
            "metadata": {}, 
            "outputs": [], 
            "source": "# The code was removed by Watson Studio for sharing."
        }, 
        {
            "execution_count": 2, 
            "cell_type": "code", 
            "metadata": {}, 
            "outputs": [], 
            "source": "df_2017 = pd.concat([df_Q1, df_Q2, df_Q3, df_Q4]) # concatenate Q1~Q4 DFs"
        }, 
        {
            "execution_count": 3, 
            "cell_type": "code", 
            "metadata": {}, 
            "outputs": [
                {
                    "execution_count": 3, 
                    "metadata": {}, 
                    "data": {
                        "text/plain": "(3829014, 12)"
                    }, 
                    "output_type": "execute_result"
                }
            ], 
            "source": "df_2017.shape"
        }, 
        {
            "execution_count": 4, 
            "cell_type": "code", 
            "metadata": {}, 
            "outputs": [
                {
                    "execution_count": 4, 
                    "metadata": {}, 
                    "data": {
                        "text/html": "<div>\n<style scoped>\n    .dataframe tbody tr th:only-of-type {\n        vertical-align: middle;\n    }\n\n    .dataframe tbody tr th {\n        vertical-align: top;\n    }\n\n    .dataframe thead th {\n        text-align: right;\n    }\n</style>\n<table border=\"1\" class=\"dataframe\">\n  <thead>\n    <tr style=\"text-align: right;\">\n      <th></th>\n      <th>trip_id</th>\n      <th>start_time</th>\n      <th>end_time</th>\n      <th>bikeid</th>\n      <th>tripduration</th>\n      <th>from_station_id</th>\n      <th>from_station_name</th>\n      <th>to_station_id</th>\n      <th>to_station_name</th>\n      <th>usertype</th>\n      <th>gender</th>\n      <th>birthyear</th>\n    </tr>\n  </thead>\n  <tbody>\n    <tr>\n      <th>0</th>\n      <td>13518905</td>\n      <td>3/31/2017 23:59:07</td>\n      <td>4/1/2017 00:13:24</td>\n      <td>5292</td>\n      <td>857</td>\n      <td>66</td>\n      <td>Clinton St &amp; Lake St</td>\n      <td>171</td>\n      <td>May St &amp; Cullerton St</td>\n      <td>Subscriber</td>\n      <td>Male</td>\n      <td>1989.0</td>\n    </tr>\n    <tr>\n      <th>1</th>\n      <td>13518904</td>\n      <td>3/31/2017 23:56:25</td>\n      <td>4/1/2017 00:00:21</td>\n      <td>4408</td>\n      <td>236</td>\n      <td>199</td>\n      <td>Wabash Ave &amp; Grand Ave</td>\n      <td>26</td>\n      <td>McClurg Ct &amp; Illinois St</td>\n      <td>Subscriber</td>\n      <td>Male</td>\n      <td>1990.0</td>\n    </tr>\n    <tr>\n      <th>2</th>\n      <td>13518903</td>\n      <td>3/31/2017 23:55:33</td>\n      <td>4/1/2017 00:01:21</td>\n      <td>696</td>\n      <td>348</td>\n      <td>520</td>\n      <td>Greenview Ave &amp; Jarvis Ave</td>\n      <td>432</td>\n      <td>Clark St &amp; Lunt Ave</td>\n      <td>Subscriber</td>\n      <td>Female</td>\n      <td>1979.0</td>\n    </tr>\n    <tr>\n      <th>3</th>\n      <td>13518902</td>\n      <td>3/31/2017 23:54:46</td>\n      <td>3/31/2017 23:59:34</td>\n      <td>4915</td>\n      <td>288</td>\n      <td>110</td>\n      <td>Dearborn St &amp; Erie St</td>\n      <td>142</td>\n      <td>McClurg Ct &amp; Erie St</td>\n      <td>Subscriber</td>\n      <td>Male</td>\n      <td>1985.0</td>\n    </tr>\n    <tr>\n      <th>4</th>\n      <td>13518901</td>\n      <td>3/31/2017 23:53:33</td>\n      <td>4/1/2017 00:00:28</td>\n      <td>4247</td>\n      <td>415</td>\n      <td>327</td>\n      <td>Sheffield Ave &amp; Webster Ave</td>\n      <td>331</td>\n      <td>Halsted St &amp; Blackhawk St (*)</td>\n      <td>Subscriber</td>\n      <td>Female</td>\n      <td>1989.0</td>\n    </tr>\n  </tbody>\n</table>\n</div>", 
                        "text/plain": "    trip_id          start_time            end_time  bikeid  tripduration  \\\n0  13518905  3/31/2017 23:59:07   4/1/2017 00:13:24    5292           857   \n1  13518904  3/31/2017 23:56:25   4/1/2017 00:00:21    4408           236   \n2  13518903  3/31/2017 23:55:33   4/1/2017 00:01:21     696           348   \n3  13518902  3/31/2017 23:54:46  3/31/2017 23:59:34    4915           288   \n4  13518901  3/31/2017 23:53:33   4/1/2017 00:00:28    4247           415   \n\n   from_station_id            from_station_name  to_station_id  \\\n0               66         Clinton St & Lake St            171   \n1              199       Wabash Ave & Grand Ave             26   \n2              520   Greenview Ave & Jarvis Ave            432   \n3              110        Dearborn St & Erie St            142   \n4              327  Sheffield Ave & Webster Ave            331   \n\n                 to_station_name    usertype  gender  birthyear  \n0          May St & Cullerton St  Subscriber    Male     1989.0  \n1       McClurg Ct & Illinois St  Subscriber    Male     1990.0  \n2            Clark St & Lunt Ave  Subscriber  Female     1979.0  \n3           McClurg Ct & Erie St  Subscriber    Male     1985.0  \n4  Halsted St & Blackhawk St (*)  Subscriber  Female     1989.0  "
                    }, 
                    "output_type": "execute_result"
                }
            ], 
            "source": "df_2017.head()"
        }, 
        {
            "execution_count": null, 
            "cell_type": "code", 
            "metadata": {}, 
            "outputs": [], 
            "source": ""
        }
    ], 
    "metadata": {
        "kernelspec": {
            "display_name": "Python 3.5", 
            "name": "python3", 
            "language": "python"
        }, 
        "language_info": {
            "mimetype": "text/x-python", 
            "nbconvert_exporter": "python", 
            "version": "3.5.5", 
            "name": "python", 
            "file_extension": ".py", 
            "pygments_lexer": "ipython3", 
            "codemirror_mode": {
                "version": 3, 
                "name": "ipython"
            }
        }
    }, 
    "nbformat": 4
}