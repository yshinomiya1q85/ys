{
    "nbformat_minor": 1, 
    "cells": [
        {
            "execution_count": 67, 
            "cell_type": "code", 
            "metadata": {}, 
            "outputs": [], 
            "source": "# The code was removed by Watson Studio for sharing."
        }, 
        {
            "execution_count": 2, 
            "cell_type": "code", 
            "metadata": {}, 
            "outputs": [], 
            "source": "body = client_2a6885dff7934b7ebca366177a8277d7.get_object(Bucket='pythonds-donotdelete-pr-nzk6zsmvpe2pao',Key='Divvy_Trips_2017_Q1.csv')['Body']\n# add missing __iter__ method, so pandas accepts body as file-like object\nif not hasattr(body, \"__iter__\"): body.__iter__ = types.MethodType( __iter__, body )\n\ndf_Q1 = pd.read_csv(body) # import 2017 Q1 csv file\n\nbody = client_2a6885dff7934b7ebca366177a8277d7.get_object(Bucket='pythonds-donotdelete-pr-nzk6zsmvpe2pao',Key='Divvy_Trips_2017_Q2.csv')['Body']\nif not hasattr(body, \"__iter__\"): body.__iter__ = types.MethodType( __iter__, body )\n\ndf_Q2 = pd.read_csv(body) # import 2017 Q2 csv file\n\nbody = client_2a6885dff7934b7ebca366177a8277d7.get_object(Bucket='pythonds-donotdelete-pr-nzk6zsmvpe2pao',Key='Divvy_Trips_2017_Q3.csv')['Body']\nif not hasattr(body, \"__iter__\"): body.__iter__ = types.MethodType( __iter__, body )\n\ndf_Q3 = pd.read_csv(body) # import 2017 Q3 csv file\n\nbody = client_2a6885dff7934b7ebca366177a8277d7.get_object(Bucket='pythonds-donotdelete-pr-nzk6zsmvpe2pao',Key='Divvy_Trips_2017_Q4.csv')['Body']\nif not hasattr(body, \"__iter__\"): body.__iter__ = types.MethodType( __iter__, body )\n\ndf_Q4 = pd.read_csv(body) # import 2017 Q4 csv file\n\n# concatenate imported DFs Q1~Q4 \ndf_2017 = pd.concat([df_Q1, df_Q2, df_Q3, df_Q4]) "
        }, 
        {
            "execution_count": 4, 
            "cell_type": "code", 
            "metadata": {}, 
            "outputs": [
                {
                    "execution_count": 4, 
                    "metadata": {}, 
                    "data": {
                        "text/html": "<div>\n<style scoped>\n    .dataframe tbody tr th:only-of-type {\n        vertical-align: middle;\n    }\n\n    .dataframe tbody tr th {\n        vertical-align: top;\n    }\n\n    .dataframe thead th {\n        text-align: right;\n    }\n</style>\n<table border=\"1\" class=\"dataframe\">\n  <thead>\n    <tr style=\"text-align: right;\">\n      <th></th>\n      <th>trip_id</th>\n      <th>start_time</th>\n      <th>end_time</th>\n      <th>bikeid</th>\n      <th>tripduration</th>\n      <th>from_station_id</th>\n      <th>from_station_name</th>\n      <th>to_station_id</th>\n      <th>to_station_name</th>\n      <th>usertype</th>\n      <th>gender</th>\n      <th>birthyear</th>\n    </tr>\n  </thead>\n  <tbody>\n    <tr>\n      <th>0</th>\n      <td>13518905</td>\n      <td>3/31/2017 23:59:07</td>\n      <td>4/1/2017 00:13:24</td>\n      <td>5292</td>\n      <td>857</td>\n      <td>66</td>\n      <td>Clinton St &amp; Lake St</td>\n      <td>171</td>\n      <td>May St &amp; Cullerton St</td>\n      <td>Subscriber</td>\n      <td>Male</td>\n      <td>1989.0</td>\n    </tr>\n    <tr>\n      <th>1</th>\n      <td>13518904</td>\n      <td>3/31/2017 23:56:25</td>\n      <td>4/1/2017 00:00:21</td>\n      <td>4408</td>\n      <td>236</td>\n      <td>199</td>\n      <td>Wabash Ave &amp; Grand Ave</td>\n      <td>26</td>\n      <td>McClurg Ct &amp; Illinois St</td>\n      <td>Subscriber</td>\n      <td>Male</td>\n      <td>1990.0</td>\n    </tr>\n    <tr>\n      <th>2</th>\n      <td>13518903</td>\n      <td>3/31/2017 23:55:33</td>\n      <td>4/1/2017 00:01:21</td>\n      <td>696</td>\n      <td>348</td>\n      <td>520</td>\n      <td>Greenview Ave &amp; Jarvis Ave</td>\n      <td>432</td>\n      <td>Clark St &amp; Lunt Ave</td>\n      <td>Subscriber</td>\n      <td>Female</td>\n      <td>1979.0</td>\n    </tr>\n    <tr>\n      <th>3</th>\n      <td>13518902</td>\n      <td>3/31/2017 23:54:46</td>\n      <td>3/31/2017 23:59:34</td>\n      <td>4915</td>\n      <td>288</td>\n      <td>110</td>\n      <td>Dearborn St &amp; Erie St</td>\n      <td>142</td>\n      <td>McClurg Ct &amp; Erie St</td>\n      <td>Subscriber</td>\n      <td>Male</td>\n      <td>1985.0</td>\n    </tr>\n    <tr>\n      <th>4</th>\n      <td>13518901</td>\n      <td>3/31/2017 23:53:33</td>\n      <td>4/1/2017 00:00:28</td>\n      <td>4247</td>\n      <td>415</td>\n      <td>327</td>\n      <td>Sheffield Ave &amp; Webster Ave</td>\n      <td>331</td>\n      <td>Halsted St &amp; Blackhawk St (*)</td>\n      <td>Subscriber</td>\n      <td>Female</td>\n      <td>1989.0</td>\n    </tr>\n  </tbody>\n</table>\n</div>", 
                        "text/plain": "    trip_id          start_time            end_time  bikeid  tripduration  \\\n0  13518905  3/31/2017 23:59:07   4/1/2017 00:13:24    5292           857   \n1  13518904  3/31/2017 23:56:25   4/1/2017 00:00:21    4408           236   \n2  13518903  3/31/2017 23:55:33   4/1/2017 00:01:21     696           348   \n3  13518902  3/31/2017 23:54:46  3/31/2017 23:59:34    4915           288   \n4  13518901  3/31/2017 23:53:33   4/1/2017 00:00:28    4247           415   \n\n   from_station_id            from_station_name  to_station_id  \\\n0               66         Clinton St & Lake St            171   \n1              199       Wabash Ave & Grand Ave             26   \n2              520   Greenview Ave & Jarvis Ave            432   \n3              110        Dearborn St & Erie St            142   \n4              327  Sheffield Ave & Webster Ave            331   \n\n                 to_station_name    usertype  gender  birthyear  \n0          May St & Cullerton St  Subscriber    Male     1989.0  \n1       McClurg Ct & Illinois St  Subscriber    Male     1990.0  \n2            Clark St & Lunt Ave  Subscriber  Female     1979.0  \n3           McClurg Ct & Erie St  Subscriber    Male     1985.0  \n4  Halsted St & Blackhawk St (*)  Subscriber  Female     1989.0  "
                    }, 
                    "output_type": "execute_result"
                }
            ], 
            "source": "df_2017.head()"
        }, 
        {
            "execution_count": 54, 
            "cell_type": "code", 
            "metadata": {}, 
            "outputs": [
                {
                    "execution_count": 54, 
                    "metadata": {}, 
                    "data": {
                        "text/html": "<div>\n<style scoped>\n    .dataframe tbody tr th:only-of-type {\n        vertical-align: middle;\n    }\n\n    .dataframe tbody tr th {\n        vertical-align: top;\n    }\n\n    .dataframe thead th {\n        text-align: right;\n    }\n</style>\n<table border=\"1\" class=\"dataframe\">\n  <thead>\n    <tr style=\"text-align: right;\">\n      <th></th>\n      <th>from_station_name</th>\n    </tr>\n  </thead>\n  <tbody>\n    <tr>\n      <th>Streeter Dr &amp; Grand Ave</th>\n      <td>97571</td>\n    </tr>\n    <tr>\n      <th>Lake Shore Dr &amp; Monroe St</th>\n      <td>53400</td>\n    </tr>\n    <tr>\n      <th>Canal St &amp; Adams St</th>\n      <td>50911</td>\n    </tr>\n    <tr>\n      <th>Clinton St &amp; Washington Blvd</th>\n      <td>49832</td>\n    </tr>\n    <tr>\n      <th>Theater on the Lake</th>\n      <td>47908</td>\n    </tr>\n  </tbody>\n</table>\n</div>", 
                        "text/plain": "                              from_station_name\nStreeter Dr & Grand Ave                   97571\nLake Shore Dr & Monroe St                 53400\nCanal St & Adams St                       50911\nClinton St & Washington Blvd              49832\nTheater on the Lake                       47908"
                    }, 
                    "output_type": "execute_result"
                }
            ], 
            "source": "#counts Top 5 stations with the most starts \ntop5 = df_2017['from_station_name'].value_counts()\ntop5 = pd.DataFrame(top5.head())\ntop5"
        }, 
        {
            "execution_count": 55, 
            "cell_type": "code", 
            "metadata": {}, 
            "outputs": [], 
            "source": "#rename column\ntop5.rename(columns={'from_station_name':'Counts'}, inplace=True)\n#transpose for visualization\ntop5.transpose()"
        }, 
        {
            "execution_count": 65, 
            "cell_type": "code", 
            "metadata": {}, 
            "outputs": [
                {
                    "ename": "NameError", 
                    "evalue": "name 'top5' is not defined", 
                    "traceback": [
                        "\u001b[0;31m---------------------------------------------------------------------------\u001b[0m", 
                        "\u001b[0;31mNameError\u001b[0m                                 Traceback (most recent call last)", 
                        "\u001b[0;32m<ipython-input-65-26d728088d46>\u001b[0m in \u001b[0;36m<module>\u001b[0;34m()\u001b[0m\n\u001b[1;32m      1\u001b[0m \u001b[0;32mimport\u001b[0m \u001b[0mmatplotlib\u001b[0m\u001b[0;34m.\u001b[0m\u001b[0mpyplot\u001b[0m \u001b[0;32mas\u001b[0m \u001b[0mplt\u001b[0m\u001b[0;34m\u001b[0m\u001b[0m\n\u001b[1;32m      2\u001b[0m \u001b[0;34m\u001b[0m\u001b[0m\n\u001b[0;32m----> 3\u001b[0;31m \u001b[0mtop5\u001b[0m\u001b[0;34m.\u001b[0m\u001b[0mplot\u001b[0m\u001b[0;34m.\u001b[0m\u001b[0mbarh\u001b[0m\u001b[0;34m(\u001b[0m\u001b[0;34m)\u001b[0m\u001b[0;34m\u001b[0m\u001b[0m\n\u001b[0m\u001b[1;32m      4\u001b[0m \u001b[0mplt\u001b[0m\u001b[0;34m.\u001b[0m\u001b[0mtitle\u001b[0m\u001b[0;34m(\u001b[0m\u001b[0;34m'Top 5 stations with the most starts'\u001b[0m\u001b[0;34m)\u001b[0m\u001b[0;34m\u001b[0m\u001b[0m\n\u001b[1;32m      5\u001b[0m \u001b[0mplt\u001b[0m\u001b[0;34m.\u001b[0m\u001b[0mxlabel\u001b[0m\u001b[0;34m(\u001b[0m\u001b[0;34m'User count'\u001b[0m\u001b[0;34m)\u001b[0m\u001b[0;34m\u001b[0m\u001b[0m\n", 
                        "\u001b[0;31mNameError\u001b[0m: name 'top5' is not defined"
                    ], 
                    "output_type": "error"
                }
            ], 
            "source": "top5.plot.barh()\nplt.title('Top 5 stations with the most starts')\nplt.xlabel('User count')\nplt.ylabel('Station name')\nplt.show()"
        }, 
        {
            "execution_count": 33, 
            "cell_type": "code", 
            "metadata": {}, 
            "outputs": [
                {
                    "execution_count": 33, 
                    "metadata": {}, 
                    "data": {
                        "text/plain": "array(['Subscriber', 'Customer', 'Dependent'], dtype=object)"
                    }, 
                    "output_type": "execute_result"
                }
            ], 
            "source": "#check usertype value\ndf_2017['usertype'].unique()"
        }, 
        {
            "execution_count": 36, 
            "cell_type": "code", 
            "metadata": {}, 
            "outputs": [], 
            "source": "df_subscriber = df_2017.loc[df_2017['usertype'] == 'Subscriber']\ndf_customer = df_2017.loc[df_2017['usertype'] == 'Customer']\ndf_dependent = df_2017.loc[df_2017['usertype'] == 'Dependent']"
        }, 
        {
            "execution_count": 40, 
            "cell_type": "code", 
            "metadata": {}, 
            "outputs": [
                {
                    "execution_count": 40, 
                    "metadata": {}, 
                    "data": {
                        "text/plain": "[2992135, 584952.10166666668, 11.729793642332314, 9.533333333333333]"
                    }, 
                    "output_type": "execute_result"
                }
            ], 
            "source": "#making trip duration list for usertype:Subscriber\nsubscriber_trip = [\n    df_2017.loc[df_2017['usertype'] == 'Subscriber'].trip_id.count(),#total trip counts\n    df_2017.loc[df_2017['usertype'] == 'Subscriber'].tripduration.sum() / (60*60),#total hour\n    df_2017.loc[df_2017['usertype'] == 'Subscriber'].tripduration.mean() / 60,#average trip minutes\n    df_2017.loc[df_2017['usertype'] == 'Subscriber'].tripduration.median() / 60#trip minutes median\n]\nsubscriber_trip"
        }, 
        {
            "execution_count": 41, 
            "cell_type": "code", 
            "metadata": {}, 
            "outputs": [
                {
                    "execution_count": 41, 
                    "metadata": {}, 
                    "data": {
                        "text/plain": "[836872, 431472.94138888887, 30.934690709371726, 22.816666666666666]"
                    }, 
                    "output_type": "execute_result"
                }
            ], 
            "source": "#making trip duration list for usertype:Customer\ncustomer_trip = [\n    df_2017.loc[df_2017['usertype'] == 'Customer'].trip_id.count(),#total trip counts\n    df_2017.loc[df_2017['usertype'] == 'Customer'].tripduration.sum() / (60*60),#total hour\n    df_2017.loc[df_2017['usertype'] == 'Customer'].tripduration.mean() / 60,#average trip minutes\n    df_2017.loc[df_2017['usertype'] == 'Customer'].tripduration.median() / 60#trip minutes median\n]\ncustomer_trip"
        }, 
        {
            "execution_count": 42, 
            "cell_type": "code", 
            "metadata": {}, 
            "outputs": [
                {
                    "execution_count": 42, 
                    "metadata": {}, 
                    "data": {
                        "text/plain": "[7, 1.4619444444444445, 12.530952380952382, 13.4]"
                    }, 
                    "output_type": "execute_result"
                }
            ], 
            "source": "#making trip duration list for usertype:Dependent\ndependent_trip = [\n    df_2017.loc[df_2017['usertype'] == 'Dependent'].trip_id.count(),#total trip counts\n    df_2017.loc[df_2017['usertype'] == 'Dependent'].tripduration.sum() / (60*60),#total hour\n    df_2017.loc[df_2017['usertype'] == 'Dependent'].tripduration.mean() / 60,#average trip minutes\n    df_2017.loc[df_2017['usertype'] == 'Dependent'].tripduration.median() / 60#trip minutes median\n]\ndependent_trip"
        }, 
        {
            "execution_count": 52, 
            "cell_type": "code", 
            "metadata": {}, 
            "outputs": [], 
            "source": "#create DataFrame from the lists\ndf_duration = pd.DataFrame(subscriber_trip)\ndf_duration['Customer'] = customer_trip\ndf_duration['Dependent'] = dependent_trip"
        }, 
        {
            "execution_count": 61, 
            "cell_type": "code", 
            "metadata": {}, 
            "outputs": [], 
            "source": "#rename column and index\ndf_duration.columns=['Subscriber','Customer','Dependent']\ndf_duration.rename(index={0:'Trip Counts',1:'Total Hour',2:'Average minutes',3:'Median minutes'}, inplace=True)"
        }, 
        {
            "execution_count": 80, 
            "cell_type": "code", 
            "metadata": {}, 
            "outputs": [
                {
                    "output_type": "display_data", 
                    "data": {
                        "image/png": "[encoded data removed]", 
                        "text/plain": "<matplotlib.figure.Figure at 0x7f5aca99ce10>"
                    }, 
                    "metadata": {}
                }
            ], 
            "source": "df_duration = df_duration.transpose()\n\ndf_duration['Trip Counts'].plot.bar()\nplt.title('Total trip counts by user type')\nplt.xlabel('User Type')\nplt.ylabel('Trip Counts')\nplt.show()"
        }, 
        {
            "execution_count": 76, 
            "cell_type": "code", 
            "metadata": {}, 
            "outputs": [
                {
                    "execution_count": 76, 
                    "metadata": {}, 
                    "data": {
                        "text/plain": "Index(['Trip Counts', 'Total Hour', 'Average minutes', 'Median minutes'], dtype='object')"
                    }, 
                    "output_type": "execute_result"
                }
            ], 
            "source": "df_duration.index"
        }, 
        {
            "execution_count": null, 
            "cell_type": "code", 
            "metadata": {}, 
            "outputs": [], 
            "source": ""
        }
    ], 
    "metadata": {
        "kernelspec": {
            "display_name": "Python 3.5", 
            "name": "python3", 
            "language": "python"
        }, 
        "language_info": {
            "mimetype": "text/x-python", 
            "nbconvert_exporter": "python", 
            "version": "3.5.5", 
            "name": "python", 
            "file_extension": ".py", 
            "pygments_lexer": "ipython3", 
            "codemirror_mode": {
                "version": 3, 
                "name": "ipython"
            }
        }
    }, 
    "nbformat": 4
}