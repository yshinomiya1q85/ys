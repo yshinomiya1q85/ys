{
    "nbformat_minor": 1, 
    "cells": [
        {
            "execution_count": 18, 
            "cell_type": "code", 
            "metadata": {}, 
            "outputs": [], 
            "source": "#\u4f7f\u7528\u3059\u308b\u30e9\u30a4\u30d6\u30e9\u30ea\u306e\u30a4\u30f3\u30dd\u30fc\u30c8\nimport codecs\nimport types\nimport pandas as pd\nfrom botocore.client import Config\nimport ibm_boto3\nimport datetime as dt\nimport matplotlib.pyplot as plt"
        }, 
        {
            "execution_count": 19, 
            "cell_type": "code", 
            "metadata": {}, 
            "outputs": [], 
            "source": "# The code was removed by Watson Studio for sharing."
        }, 
        {
            "execution_count": 20, 
            "cell_type": "code", 
            "metadata": {}, 
            "outputs": [], 
            "source": "# APAR\u306ecsv\u30d5\u30a1\u30a4\u30eb\u3092\u8aad\u307f\u8fbc\u3093\u3067\u3001Data Frame 'df' \u3068\u3057\u3066\u4fdd\u5b58\nwith codecs.open(\"apar_info.csv\", \"r\", \"utf-8\", \"ignore\") as file:\n    df = pd.read_table(file, delimiter=\",\")"
        }, 
        {
            "execution_count": 21, 
            "cell_type": "code", 
            "metadata": {}, 
            "outputs": [
                {
                    "execution_count": 21, 
                    "metadata": {}, 
                    "data": {
                        "text/html": "<div>\n<style scoped>\n    .dataframe tbody tr th:only-of-type {\n        vertical-align: middle;\n    }\n\n    .dataframe tbody tr th {\n        vertical-align: top;\n    }\n\n    .dataframe thead th {\n        text-align: right;\n    }\n</style>\n<table border=\"1\" class=\"dataframe\">\n  <thead>\n    <tr style=\"text-align: right;\">\n      <th></th>\n      <th>APAR</th>\n      <th>STATUS</th>\n      <th>ISEV</th>\n      <th>RCOMP</th>\n      <th>SBDATE</th>\n      <th>CLOSE CODE</th>\n      <th>SEV</th>\n      <th>RREL</th>\n      <th>RCDATE</th>\n      <th>HIPER</th>\n      <th>...</th>\n      <th>ERROR DESCRIPTION</th>\n      <th>LOCAL FIX</th>\n      <th>USERS AFFECTED</th>\n      <th>PROBLEM DESCRIPTION</th>\n      <th>RECOMMENDATION</th>\n      <th>OPTIONAL ERROR DESCRIPTION</th>\n      <th>PROBLEM CONCLUSION</th>\n      <th>TEMPORARY FIX</th>\n      <th>COMMENTS</th>\n      <th>CIRCUMVENTION</th>\n    </tr>\n  </thead>\n  <tbody>\n    <tr>\n      <th>32762</th>\n      <td>PI97166</td>\n      <td>'CLOSED</td>\n      <td>'3</td>\n      <td>'5635A0600</td>\n      <td>'18/04/24</td>\n      <td>'PER</td>\n      <td>'3</td>\n      <td>'R500</td>\n      <td>'18/04/24</td>\n      <td>'HIPER/Y</td>\n      <td>...</td>\n      <td>'IMS shutdown is hung.\\nThe CST itask (the one...</td>\n      <td>'None.\\n</td>\n      <td>'ALL IMS V15 DC MONITOR USERS\\n</td>\n      <td>'IMS SHUTDOWN HUNG TRYING TO GET ACTL LATCH WH...</td>\n      <td>'INSTALL CORRECTIVE SERVICE FOR APAR/PTF\\n</td>\n      <td>'Based on timing, if the prior monitor buffer ...</td>\n      <td>'DFSFLLG0 is changed in the log record write l...</td>\n      <td>' \\n</td>\n      <td>'</td>\n      <td>' \\n</td>\n    </tr>\n    <tr>\n      <th>32763</th>\n      <td>PI97167</td>\n      <td>'CLOSED</td>\n      <td>'3</td>\n      <td>'5635A0500</td>\n      <td>'18/04/24</td>\n      <td>'PER</td>\n      <td>'3</td>\n      <td>'R400</td>\n      <td>'18/04/24</td>\n      <td>'HIPER/Y</td>\n      <td>...</td>\n      <td>'IMS shutdown is hung.\\nThe CST itask (the one...</td>\n      <td>'None.\\n</td>\n      <td>'ALL IMS V14 DC MONITOR USERS\\n</td>\n      <td>'IMS SHUTDOWN HUNG TRYING TO GET ACTL LATCH WH...</td>\n      <td>'INSTALL CORRECTIVE SERVICE FOR APAR/PTF\\n</td>\n      <td>'Based on timing, if the prior monitor buffer ...</td>\n      <td>'DFSFLLG0 is changed in the log record write l...</td>\n      <td>' \\n</td>\n      <td>'</td>\n      <td>' \\n</td>\n    </tr>\n    <tr>\n      <th>32764</th>\n      <td>PI97285</td>\n      <td>'CLOSED</td>\n      <td>'2</td>\n      <td>'694235B00</td>\n      <td>'18/04/26</td>\n      <td>'PER</td>\n      <td>'2</td>\n      <td>'R3E0</td>\n      <td>'18/06/04</td>\n      <td>'HIPER/Y</td>\n      <td>...</td>\n      <td>'GDPS/Active-Active Change Master operation re...</td>\n      <td>' \\n</td>\n      <td>'GDPS/Active-Active\\nGDPSAA/K\\n</td>\n      <td>'Following a Change Master operation\\ninitiate...</td>\n      <td>'AI97285\\n</td>\n      <td>' \\n</td>\n      <td>'Various improvements have been made to improv...</td>\n      <td>'*********\\n* HIPER *\\n*********\\n</td>\n      <td>'</td>\n      <td>'</td>\n    </tr>\n    <tr>\n      <th>32765</th>\n      <td>PI97491</td>\n      <td>'CLOSED</td>\n      <td>'2</td>\n      <td>'5740XYR00</td>\n      <td>'18/05/02</td>\n      <td>'PER</td>\n      <td>'2</td>\n      <td>'RB10</td>\n      <td>'18/05/02</td>\n      <td>NaN</td>\n      <td>...</td>\n      <td>'Customer has some objects in LPL/GRECP status...</td>\n      <td>'Use DEFER ALL if possible.\\nor set xxxxDBID,x...</td>\n      <td>'Db2 for z/OS V11 and V12 data sharing users.\\n</td>\n      <td>'Db2 may attempt automatic GRECP\\nrecovery aft...</td>\n      <td>'</td>\n      <td>'Db2 will periodically attempt recovery for ta...</td>\n      <td>'The automatic GRECP recovery logic has been m...</td>\n      <td>'</td>\n      <td>'</td>\n      <td>'</td>\n    </tr>\n    <tr>\n      <th>32766</th>\n      <td>PI97494</td>\n      <td>'CLOSED</td>\n      <td>'2</td>\n      <td>'5740XYR00</td>\n      <td>'18/05/03</td>\n      <td>'PER</td>\n      <td>'2</td>\n      <td>'RB10</td>\n      <td>'18/05/03</td>\n      <td>NaN</td>\n      <td>...</td>\n      <td>'ABEND0C4 RC11 at DSNXRBN9 OFFSET48B2 may issu...</td>\n      <td>'n/a\\n</td>\n      <td>'All Db2 11 for z/OS users running a Db2 v9\\nb...</td>\n      <td>'An ABEND0C4 rc11 at DSNXGRDS DSNXRBN9\\ncan oc...</td>\n      <td>'</td>\n      <td>'An ABEND0C4 rc11 can occur at location DSNXRB...</td>\n      <td>'Db2 code has been modified to correctly retur...</td>\n      <td>'</td>\n      <td>'</td>\n      <td>'</td>\n    </tr>\n  </tbody>\n</table>\n<p>5 rows \u00d7 29 columns</p>\n</div>", 
                        "text/plain": "          APAR   STATUS ISEV       RCOMP     SBDATE CLOSE CODE SEV   RREL  \\\n32762  PI97166  'CLOSED   '3  '5635A0600  '18/04/24       'PER  '3  'R500   \n32763  PI97167  'CLOSED   '3  '5635A0500  '18/04/24       'PER  '3  'R400   \n32764  PI97285  'CLOSED   '2  '694235B00  '18/04/26       'PER  '2  'R3E0   \n32765  PI97491  'CLOSED   '2  '5740XYR00  '18/05/02       'PER  '2  'RB10   \n32766  PI97494  'CLOSED   '2  '5740XYR00  '18/05/03       'PER  '2  'RB10   \n\n          RCDATE     HIPER      ...       \\\n32762  '18/04/24  'HIPER/Y      ...        \n32763  '18/04/24  'HIPER/Y      ...        \n32764  '18/06/04  'HIPER/Y      ...        \n32765  '18/05/02       NaN      ...        \n32766  '18/05/03       NaN      ...        \n\n                                       ERROR DESCRIPTION  \\\n32762  'IMS shutdown is hung.\\nThe CST itask (the one...   \n32763  'IMS shutdown is hung.\\nThe CST itask (the one...   \n32764  'GDPS/Active-Active Change Master operation re...   \n32765  'Customer has some objects in LPL/GRECP status...   \n32766  'ABEND0C4 RC11 at DSNXRBN9 OFFSET48B2 may issu...   \n\n                                               LOCAL FIX  \\\n32762                                          'None.\\n    \n32763                                          'None.\\n    \n32764                                              ' \\n    \n32765  'Use DEFER ALL if possible.\\nor set xxxxDBID,x...   \n32766                                            'n/a\\n    \n\n                                          USERS AFFECTED  \\\n32762                   'ALL IMS V15 DC MONITOR USERS\\n    \n32763                   'ALL IMS V14 DC MONITOR USERS\\n    \n32764                   'GDPS/Active-Active\\nGDPSAA/K\\n    \n32765   'Db2 for z/OS V11 and V12 data sharing users.\\n    \n32766  'All Db2 11 for z/OS users running a Db2 v9\\nb...   \n\n                                     PROBLEM DESCRIPTION  \\\n32762  'IMS SHUTDOWN HUNG TRYING TO GET ACTL LATCH WH...   \n32763  'IMS SHUTDOWN HUNG TRYING TO GET ACTL LATCH WH...   \n32764  'Following a Change Master operation\\ninitiate...   \n32765  'Db2 may attempt automatic GRECP\\nrecovery aft...   \n32766  'An ABEND0C4 rc11 at DSNXGRDS DSNXRBN9\\ncan oc...   \n\n                                    RECOMMENDATION  \\\n32762  'INSTALL CORRECTIVE SERVICE FOR APAR/PTF\\n    \n32763  'INSTALL CORRECTIVE SERVICE FOR APAR/PTF\\n    \n32764                                  'AI97285\\n    \n32765                                           '    \n32766                                           '    \n\n                              OPTIONAL ERROR DESCRIPTION  \\\n32762  'Based on timing, if the prior monitor buffer ...   \n32763  'Based on timing, if the prior monitor buffer ...   \n32764                                              ' \\n    \n32765  'Db2 will periodically attempt recovery for ta...   \n32766  'An ABEND0C4 rc11 can occur at location DSNXRB...   \n\n                                      PROBLEM CONCLUSION  \\\n32762  'DFSFLLG0 is changed in the log record write l...   \n32763  'DFSFLLG0 is changed in the log record write l...   \n32764  'Various improvements have been made to improv...   \n32765  'The automatic GRECP recovery logic has been m...   \n32766  'Db2 code has been modified to correctly retur...   \n\n                             TEMPORARY FIX COMMENTS CIRCUMVENTION  \n32762                                ' \\n        '          ' \\n   \n32763                                ' \\n        '          ' \\n   \n32764  '*********\\n* HIPER *\\n*********\\n        '             '   \n32765                                   '        '             '   \n32766                                   '        '             '   \n\n[5 rows x 29 columns]"
                    }, 
                    "output_type": "execute_result"
                }
            ], 
            "source": "df.tail()"
        }, 
        {
            "execution_count": 22, 
            "cell_type": "code", 
            "metadata": {}, 
            "outputs": [
                {
                    "output_type": "stream", 
                    "name": "stdout", 
                    "text": "<class 'pandas.core.frame.DataFrame'>\nRangeIndex: 32767 entries, 0 to 32766\nData columns (total 29 columns):\nAPAR                          32767 non-null object\nSTATUS                        32767 non-null object\nISEV                          32767 non-null object\nRCOMP                         32767 non-null object\nSBDATE                        32767 non-null object\nCLOSE CODE                    32752 non-null object\nSEV                           32767 non-null object\nRREL                          32767 non-null object\nRCDATE                        32752 non-null object\nHIPER                         11142 non-null object\nSEC/INT                       13945 non-null object\nFCOMP                         32753 non-null object\nCLDATE                        32752 non-null object\nPE                            2615 non-null object\nPFREL                         32767 non-null object\nFAILURE KEYWORD               32767 non-null object\nMODULES/MACROS                32749 non-null object\nAPPLICABLE LVL                32750 non-null object\nABSTRACT                      32766 non-null object\nERROR DESCRIPTION             32760 non-null object\nLOCAL FIX                     30462 non-null object\nUSERS AFFECTED                32677 non-null object\nPROBLEM DESCRIPTION           32687 non-null object\nRECOMMENDATION                29838 non-null object\nOPTIONAL ERROR DESCRIPTION    32540 non-null object\nPROBLEM CONCLUSION            32465 non-null object\nTEMPORARY FIX                 30336 non-null object\nCOMMENTS                      28342 non-null object\nCIRCUMVENTION                 28264 non-null object\ndtypes: object(29)\nmemory usage: 7.2+ MB\n"
                }
            ], 
            "source": "df.info()"
        }, 
        {
            "execution_count": 23, 
            "cell_type": "code", 
            "metadata": {}, 
            "outputs": [
                {
                    "execution_count": 23, 
                    "metadata": {}, 
                    "data": {
                        "text/plain": "Index(['APAR', 'STATUS', 'ISEV', 'RCOMP', 'SBDATE', 'CLOSE CODE', 'SEV',\n       'RREL', 'RCDATE', 'HIPER', 'SEC/INT', 'FCOMP', 'CLDATE', 'PE', 'PFREL',\n       'FAILURE KEYWORD', 'MODULES/MACROS', 'APPLICABLE LVL', 'ABSTRACT',\n       'ERROR DESCRIPTION', 'LOCAL FIX', 'USERS AFFECTED',\n       'PROBLEM DESCRIPTION', 'RECOMMENDATION', 'OPTIONAL ERROR DESCRIPTION',\n       'PROBLEM CONCLUSION', 'TEMPORARY FIX', 'COMMENTS', 'CIRCUMVENTION'],\n      dtype='object')"
                    }, 
                    "output_type": "execute_result"
                }
            ], 
            "source": "df.columns"
        }, 
        {
            "execution_count": 7, 
            "cell_type": "code", 
            "metadata": {}, 
            "outputs": [], 
            "source": "#APAR\u540d\u306e\u5217\u3092\u30a4\u30f3\u30c7\u30c3\u30af\u30b9\u306b\u3059\u308b\ndf.set_index('APAR',drop=True,inplace=True)"
        }, 
        {
            "execution_count": 8, 
            "cell_type": "code", 
            "metadata": {}, 
            "outputs": [], 
            "source": "#\u65e5\u4ed8\u306e\u30d5\u30a9\u30fc\u30de\u30c3\u30c8\u3092DataFrame\u306e\u30d5\u30a9\u30fc\u30de\u30c3\u30c8\u306b\u5909\u63db\ndf[\"SBDATE\"] = pd.to_datetime(df[\"SBDATE\"],format=\"'%y/%m/%d\")\ndf[\"RCDATE\"] = pd.to_datetime(df[\"RCDATE\"],format=\"'%y/%m/%d\")\ndf[\"CLDATE\"] = pd.to_datetime(df[\"CLDATE\"],format=\"'%y/%m/%d\")"
        }, 
        {
            "execution_count": 9, 
            "cell_type": "code", 
            "metadata": {}, 
            "outputs": [
                {
                    "execution_count": 9, 
                    "metadata": {}, 
                    "data": {
                        "text/html": "<div>\n<style scoped>\n    .dataframe tbody tr th:only-of-type {\n        vertical-align: middle;\n    }\n\n    .dataframe tbody tr th {\n        vertical-align: top;\n    }\n\n    .dataframe thead th {\n        text-align: right;\n    }\n</style>\n<table border=\"1\" class=\"dataframe\">\n  <thead>\n    <tr style=\"text-align: right;\">\n      <th></th>\n      <th>SBDATE</th>\n      <th>RCDATE</th>\n      <th>CLDATE</th>\n    </tr>\n    <tr>\n      <th>APAR</th>\n      <th></th>\n      <th></th>\n      <th></th>\n    </tr>\n  </thead>\n  <tbody>\n    <tr>\n      <th>II12465</th>\n      <td>2000-07-18</td>\n      <td>NaT</td>\n      <td>NaT</td>\n    </tr>\n    <tr>\n      <th>II13912</th>\n      <td>2004-07-27</td>\n      <td>NaT</td>\n      <td>NaT</td>\n    </tr>\n    <tr>\n      <th>II14224</th>\n      <td>2006-09-27</td>\n      <td>NaT</td>\n      <td>NaT</td>\n    </tr>\n    <tr>\n      <th>II14366</th>\n      <td>2008-02-15</td>\n      <td>NaT</td>\n      <td>NaT</td>\n    </tr>\n    <tr>\n      <th>OA31527</th>\n      <td>2009-12-23</td>\n      <td>2009-12-29</td>\n      <td>2010-01-08</td>\n    </tr>\n    <tr>\n      <th>OA31538</th>\n      <td>2010-01-05</td>\n      <td>2010-01-06</td>\n      <td>2010-01-13</td>\n    </tr>\n    <tr>\n      <th>PK97721</th>\n      <td>2009-10-02</td>\n      <td>2009-10-02</td>\n      <td>2010-01-08</td>\n    </tr>\n    <tr>\n      <th>PK98333</th>\n      <td>2009-10-09</td>\n      <td>2009-10-12</td>\n      <td>2010-01-04</td>\n    </tr>\n    <tr>\n      <th>PM00628</th>\n      <td>2009-11-05</td>\n      <td>2009-11-06</td>\n      <td>2010-01-04</td>\n    </tr>\n    <tr>\n      <th>PM04137</th>\n      <td>2009-12-23</td>\n      <td>2009-12-23</td>\n      <td>2010-01-11</td>\n    </tr>\n  </tbody>\n</table>\n</div>", 
                        "text/plain": "            SBDATE     RCDATE     CLDATE\nAPAR                                    \nII12465 2000-07-18        NaT        NaT\nII13912 2004-07-27        NaT        NaT\nII14224 2006-09-27        NaT        NaT\nII14366 2008-02-15        NaT        NaT\nOA31527 2009-12-23 2009-12-29 2010-01-08\nOA31538 2010-01-05 2010-01-06 2010-01-13\nPK97721 2009-10-02 2009-10-02 2010-01-08\nPK98333 2009-10-09 2009-10-12 2010-01-04\nPM00628 2009-11-05 2009-11-06 2010-01-04\nPM04137 2009-12-23 2009-12-23 2010-01-11"
                    }, 
                    "output_type": "execute_result"
                }
            ], 
            "source": "df[['SBDATE','RCDATE','CLDATE']].head(10)"
        }, 
        {
            "execution_count": 9, 
            "cell_type": "code", 
            "metadata": {
                "scrolled": true
            }, 
            "outputs": [
                {
                    "output_type": "stream", 
                    "name": "stdout", 
                    "text": "'PE/Y    2615\nName: PE, dtype: int64\n'HIPER/Y    11142\nName: HIPER, dtype: int64\n"
                }
            ], 
            "source": "#PE,HIPER\u5217\u3092\u30ab\u30a6\u30f3\u30c8\nprint(df['PE'].value_counts())\nprint(df['HIPER'].value_counts())"
        }, 
        {
            "execution_count": 10, 
            "cell_type": "code", 
            "metadata": {}, 
            "outputs": [], 
            "source": "#PE\u3001HIPER\u306e\u5217\u306b\u3064\u3044\u3066\u3001PE,HIPER\u306b\u8a72\u5f53\u3059\u308b\u5024\u30921\u306b\u5909\u63db\u3059\u308b\ndf['PE'] = df['PE'].str.replace(\"'PE/Y\", \"1\")\ndf['HIPER'] = df['HIPER'].str.replace(\"'HIPER/Y\", \"1\")\n\n#PE\u3001HIPER\u306e\u5217\u306b\u3064\u3044\u3066\u3001\u5024\u304c\u5165\u3063\u3066\u3044\u306a\u3044NaN\u3092\u30010\u306b\u5909\u63db\u3059\u308b\ndf['PE'] = df['PE'].fillna(0)\ndf['HIPER'] = df['HIPER'].fillna(0)\n\n#PE\u3001HIPER\u306e\u5217\u306b\u3064\u3044\u3066\u30010,1 \u306e\u5024\u3092boolean\u5f62\u5f0f\u306b\u5909\u63db\u3059\u308b\ndf['PE'] = df['PE'].astype(bool)\ndf['HIPER'] = df['HIPER'].astype(bool)"
        }, 
        {
            "execution_count": 12, 
            "cell_type": "code", 
            "metadata": {}, 
            "outputs": [
                {
                    "execution_count": 12, 
                    "metadata": {}, 
                    "data": {
                        "text/html": "<div>\n<style scoped>\n    .dataframe tbody tr th:only-of-type {\n        vertical-align: middle;\n    }\n\n    .dataframe tbody tr th {\n        vertical-align: top;\n    }\n\n    .dataframe thead th {\n        text-align: right;\n    }\n</style>\n<table border=\"1\" class=\"dataframe\">\n  <thead>\n    <tr style=\"text-align: right;\">\n      <th></th>\n      <th>PE</th>\n      <th>HIPER</th>\n    </tr>\n    <tr>\n      <th>APAR</th>\n      <th></th>\n      <th></th>\n    </tr>\n  </thead>\n  <tbody>\n    <tr>\n      <th>II12465</th>\n      <td>False</td>\n      <td>False</td>\n    </tr>\n    <tr>\n      <th>II13912</th>\n      <td>False</td>\n      <td>False</td>\n    </tr>\n    <tr>\n      <th>II14224</th>\n      <td>False</td>\n      <td>False</td>\n    </tr>\n    <tr>\n      <th>II14366</th>\n      <td>False</td>\n      <td>False</td>\n    </tr>\n    <tr>\n      <th>OA31527</th>\n      <td>False</td>\n      <td>False</td>\n    </tr>\n    <tr>\n      <th>OA31538</th>\n      <td>True</td>\n      <td>False</td>\n    </tr>\n    <tr>\n      <th>PK97721</th>\n      <td>False</td>\n      <td>True</td>\n    </tr>\n    <tr>\n      <th>PK98333</th>\n      <td>False</td>\n      <td>True</td>\n    </tr>\n    <tr>\n      <th>PM00628</th>\n      <td>False</td>\n      <td>True</td>\n    </tr>\n    <tr>\n      <th>PM04137</th>\n      <td>False</td>\n      <td>True</td>\n    </tr>\n  </tbody>\n</table>\n</div>", 
                        "text/plain": "            PE  HIPER\nAPAR                 \nII12465  False  False\nII13912  False  False\nII14224  False  False\nII14366  False  False\nOA31527  False  False\nOA31538   True  False\nPK97721  False   True\nPK98333  False   True\nPM00628  False   True\nPM04137  False   True"
                    }, 
                    "output_type": "execute_result"
                }
            ], 
            "source": "df[['PE','HIPER']].head(10)"
        }, 
        {
            "execution_count": 11, 
            "cell_type": "code", 
            "metadata": {}, 
            "outputs": [], 
            "source": "# \u4fee\u6b63\u307e\u3067\u306e\u65e5\u6570\u3092\u5217\u306b\u8ffd\u52a0\u3002\uff08\u5217\u540d\u3092\u8981\u78ba\u8a8d\uff09\ndf['days_to_aparclose'] = df['CLDATE']-df['SBDATE']\ndf['days_to_aparclose'] = df['days_to_aparclose'].dt.days"
        }, 
        {
            "execution_count": 12, 
            "cell_type": "code", 
            "metadata": {}, 
            "outputs": [
                {
                    "execution_count": 12, 
                    "metadata": {}, 
                    "data": {
                        "text/plain": "count    32752.000000\nmean        68.274670\nstd         85.006693\nmin          0.000000\n25%         20.000000\n50%         44.000000\n75%         84.000000\nmax       1535.000000\nName: days_to_fix, dtype: float64"
                    }, 
                    "output_type": "execute_result"
                }
            ], 
            "source": "df['days_to_aparclose'].describe()"
        }, 
        {
            "execution_count": 13, 
            "cell_type": "code", 
            "metadata": {}, 
            "outputs": [
                {
                    "execution_count": 13, 
                    "metadata": {}, 
                    "data": {
                        "text/plain": "<matplotlib.axes._subplots.AxesSubplot at 0x7f8543510e48>"
                    }, 
                    "output_type": "execute_result"
                }, 
                {
                    "output_type": "display_data", 
                    "data": {
                        "image/png": "[encoded data removed]", 
                        "text/plain": "<matplotlib.figure.Figure at 0x7f8551274cc0>"
                    }, 
                    "metadata": {}
                }
            ], 
            "source": "#\u4fee\u6b63\u307e\u3067\u306e\u65e5\u6570\u3092\u30d7\u30ed\u30c3\u30c8\u3057\u3066\u307f\u308b\ndf['days_to_fix'].plot.hist()"
        }, 
        {
            "execution_count": 14, 
            "cell_type": "code", 
            "metadata": {}, 
            "outputs": [], 
            "source": "#SEV\u306e\u5217\u306e' \u3092\u524a\u9664\u3002\u305d\u308c\u305e\u308c\u306b\u5bfe\u5fdc\u3059\u308b\u5909\u6570\u5217\u3092\u8ffd\u52a0\ndf['SEV'] = df['SEV'].str.replace(\"'\", \"\")\ndf = pd.get_dummies(df, columns=[\"SEV\"])"
        }, 
        {
            "execution_count": 15, 
            "cell_type": "code", 
            "metadata": {}, 
            "outputs": [
                {
                    "execution_count": 15, 
                    "metadata": {}, 
                    "data": {
                        "text/html": "<div>\n<style scoped>\n    .dataframe tbody tr th:only-of-type {\n        vertical-align: middle;\n    }\n\n    .dataframe tbody tr th {\n        vertical-align: top;\n    }\n\n    .dataframe thead th {\n        text-align: right;\n    }\n</style>\n<table border=\"1\" class=\"dataframe\">\n  <thead>\n    <tr style=\"text-align: right;\">\n      <th></th>\n      <th>HIPER</th>\n      <th>PE</th>\n      <th>days_to_fix</th>\n      <th>SEV_1</th>\n      <th>SEV_2</th>\n      <th>SEV_3</th>\n      <th>SEV_4</th>\n    </tr>\n  </thead>\n  <tbody>\n    <tr>\n      <th>HIPER</th>\n      <td>1.000000</td>\n      <td>0.054869</td>\n      <td>-0.016307</td>\n      <td>0.179287</td>\n      <td>0.174514</td>\n      <td>-0.156251</td>\n      <td>-0.155212</td>\n    </tr>\n    <tr>\n      <th>PE</th>\n      <td>0.054869</td>\n      <td>1.000000</td>\n      <td>-0.090033</td>\n      <td>0.045457</td>\n      <td>0.156680</td>\n      <td>-0.130418</td>\n      <td>-0.074121</td>\n    </tr>\n    <tr>\n      <th>days_to_fix</th>\n      <td>-0.016307</td>\n      <td>-0.090033</td>\n      <td>1.000000</td>\n      <td>-0.056484</td>\n      <td>-0.061952</td>\n      <td>0.033060</td>\n      <td>0.085660</td>\n    </tr>\n    <tr>\n      <th>SEV_1</th>\n      <td>0.179287</td>\n      <td>0.045457</td>\n      <td>-0.056484</td>\n      <td>1.000000</td>\n      <td>-0.197526</td>\n      <td>-0.193619</td>\n      <td>-0.080327</td>\n    </tr>\n    <tr>\n      <th>SEV_2</th>\n      <td>0.174514</td>\n      <td>0.156680</td>\n      <td>-0.061952</td>\n      <td>-0.197526</td>\n      <td>1.000000</td>\n      <td>-0.725419</td>\n      <td>-0.300955</td>\n    </tr>\n    <tr>\n      <th>SEV_3</th>\n      <td>-0.156251</td>\n      <td>-0.130418</td>\n      <td>0.033060</td>\n      <td>-0.193619</td>\n      <td>-0.725419</td>\n      <td>1.000000</td>\n      <td>-0.295003</td>\n    </tr>\n    <tr>\n      <th>SEV_4</th>\n      <td>-0.155212</td>\n      <td>-0.074121</td>\n      <td>0.085660</td>\n      <td>-0.080327</td>\n      <td>-0.300955</td>\n      <td>-0.295003</td>\n      <td>1.000000</td>\n    </tr>\n  </tbody>\n</table>\n</div>", 
                        "text/plain": "                HIPER        PE  days_to_fix     SEV_1     SEV_2     SEV_3  \\\nHIPER        1.000000  0.054869    -0.016307  0.179287  0.174514 -0.156251   \nPE           0.054869  1.000000    -0.090033  0.045457  0.156680 -0.130418   \ndays_to_fix -0.016307 -0.090033     1.000000 -0.056484 -0.061952  0.033060   \nSEV_1        0.179287  0.045457    -0.056484  1.000000 -0.197526 -0.193619   \nSEV_2        0.174514  0.156680    -0.061952 -0.197526  1.000000 -0.725419   \nSEV_3       -0.156251 -0.130418     0.033060 -0.193619 -0.725419  1.000000   \nSEV_4       -0.155212 -0.074121     0.085660 -0.080327 -0.300955 -0.295003   \n\n                SEV_4  \nHIPER       -0.155212  \nPE          -0.074121  \ndays_to_fix  0.085660  \nSEV_1       -0.080327  \nSEV_2       -0.300955  \nSEV_3       -0.295003  \nSEV_4        1.000000  "
                    }, 
                    "output_type": "execute_result"
                }
            ], 
            "source": "# \u5217\u540c\u58eb\u306e\u76f8\u95a2\u95a2\u4fc2\u3092\u8868\u793a\ndf.corr()"
        }, 
        {
            "execution_count": 16, 
            "cell_type": "code", 
            "metadata": {}, 
            "outputs": [
                {
                    "execution_count": 16, 
                    "metadata": {}, 
                    "data": {
                        "text/html": "<div>\n<style scoped>\n    .dataframe tbody tr th:only-of-type {\n        vertical-align: middle;\n    }\n\n    .dataframe tbody tr th {\n        vertical-align: top;\n    }\n\n    .dataframe thead th {\n        text-align: right;\n    }\n</style>\n<table border=\"1\" class=\"dataframe\">\n  <thead>\n    <tr style=\"text-align: right;\">\n      <th></th>\n      <th>STATUS</th>\n      <th>ISEV</th>\n      <th>RCOMP</th>\n      <th>SBDATE</th>\n      <th>CLOSE CODE</th>\n      <th>RREL</th>\n      <th>RCDATE</th>\n      <th>HIPER</th>\n      <th>SEC/INT</th>\n      <th>FCOMP</th>\n      <th>...</th>\n      <th>OPTIONAL ERROR DESCRIPTION</th>\n      <th>PROBLEM CONCLUSION</th>\n      <th>TEMPORARY FIX</th>\n      <th>COMMENTS</th>\n      <th>CIRCUMVENTION</th>\n      <th>days_to_fix</th>\n      <th>SEV_1</th>\n      <th>SEV_2</th>\n      <th>SEV_3</th>\n      <th>SEV_4</th>\n    </tr>\n    <tr>\n      <th>APAR</th>\n      <th></th>\n      <th></th>\n      <th></th>\n      <th></th>\n      <th></th>\n      <th></th>\n      <th></th>\n      <th></th>\n      <th></th>\n      <th></th>\n      <th></th>\n      <th></th>\n      <th></th>\n      <th></th>\n      <th></th>\n      <th></th>\n      <th></th>\n      <th></th>\n      <th></th>\n      <th></th>\n      <th></th>\n    </tr>\n  </thead>\n  <tbody>\n    <tr>\n      <th>II12465</th>\n      <td>'INTRAN</td>\n      <td>'4</td>\n      <td>'INFOPBLIB</td>\n      <td>2000-07-18</td>\n      <td>NaN</td>\n      <td>'R001</td>\n      <td>NaT</td>\n      <td>False</td>\n      <td>NaN</td>\n      <td>NaN</td>\n      <td>...</td>\n      <td>NaN</td>\n      <td>NaN</td>\n      <td>NaN</td>\n      <td>NaN</td>\n      <td>NaN</td>\n      <td>NaN</td>\n      <td>0</td>\n      <td>0</td>\n      <td>0</td>\n      <td>1</td>\n    </tr>\n    <tr>\n      <th>II13912</th>\n      <td>'INTRAN</td>\n      <td>'4</td>\n      <td>'INFOPBLIB</td>\n      <td>2004-07-27</td>\n      <td>NaN</td>\n      <td>'R001</td>\n      <td>NaT</td>\n      <td>False</td>\n      <td>NaN</td>\n      <td>NaN</td>\n      <td>...</td>\n      <td>NaN</td>\n      <td>NaN</td>\n      <td>NaN</td>\n      <td>NaN</td>\n      <td>NaN</td>\n      <td>NaN</td>\n      <td>0</td>\n      <td>0</td>\n      <td>0</td>\n      <td>1</td>\n    </tr>\n    <tr>\n      <th>II14224</th>\n      <td>'INTRAN</td>\n      <td>'4</td>\n      <td>'INFOPBLIB</td>\n      <td>2006-09-27</td>\n      <td>NaN</td>\n      <td>'R001</td>\n      <td>NaT</td>\n      <td>False</td>\n      <td>NaN</td>\n      <td>NaN</td>\n      <td>...</td>\n      <td>NaN</td>\n      <td>NaN</td>\n      <td>NaN</td>\n      <td>NaN</td>\n      <td>NaN</td>\n      <td>NaN</td>\n      <td>0</td>\n      <td>0</td>\n      <td>0</td>\n      <td>1</td>\n    </tr>\n    <tr>\n      <th>II14366</th>\n      <td>'INTRAN</td>\n      <td>'4</td>\n      <td>'INFOPBLIB</td>\n      <td>2008-02-15</td>\n      <td>NaN</td>\n      <td>'R001</td>\n      <td>NaT</td>\n      <td>False</td>\n      <td>NaN</td>\n      <td>NaN</td>\n      <td>...</td>\n      <td>NaN</td>\n      <td>NaN</td>\n      <td>NaN</td>\n      <td>NaN</td>\n      <td>NaN</td>\n      <td>NaN</td>\n      <td>0</td>\n      <td>0</td>\n      <td>0</td>\n      <td>1</td>\n    </tr>\n    <tr>\n      <th>OA31527</th>\n      <td>'CLOSED</td>\n      <td>'3</td>\n      <td>'5752SC1BH</td>\n      <td>2009-12-23</td>\n      <td>'PER</td>\n      <td>'R708</td>\n      <td>2009-12-29</td>\n      <td>False</td>\n      <td>'N</td>\n      <td>'5752SC1BH</td>\n      <td>...</td>\n      <td>'Due to a lack of an IXZXIXCL invocation for t...</td>\n      <td>'TYPE/RESTART(WARM) IPL/REQUIRED(YES) CLPA(YES...</td>\n      <td>'*** * TEMPORARY FIX MAY BE OBTAINED FROM DLL ...</td>\n      <td>'\\n\\n\\n</td>\n      <td>'\\n\\n\\n</td>\n      <td>16.0</td>\n      <td>0</td>\n      <td>0</td>\n      <td>1</td>\n      <td>0</td>\n    </tr>\n  </tbody>\n</table>\n<p>5 rows \u00d7 32 columns</p>\n</div>", 
                        "text/plain": "          STATUS ISEV       RCOMP     SBDATE CLOSE CODE   RREL     RCDATE  \\\nAPAR                                                                        \nII12465  'INTRAN   '4  'INFOPBLIB 2000-07-18        NaN  'R001        NaT   \nII13912  'INTRAN   '4  'INFOPBLIB 2004-07-27        NaN  'R001        NaT   \nII14224  'INTRAN   '4  'INFOPBLIB 2006-09-27        NaN  'R001        NaT   \nII14366  'INTRAN   '4  'INFOPBLIB 2008-02-15        NaN  'R001        NaT   \nOA31527  'CLOSED   '3  '5752SC1BH 2009-12-23       'PER  'R708 2009-12-29   \n\n         HIPER SEC/INT       FCOMP  ...   \\\nAPAR                                ...    \nII12465  False     NaN         NaN  ...    \nII13912  False     NaN         NaN  ...    \nII14224  False     NaN         NaN  ...    \nII14366  False     NaN         NaN  ...    \nOA31527  False      'N  '5752SC1BH  ...    \n\n                                OPTIONAL ERROR DESCRIPTION  \\\nAPAR                                                         \nII12465                                                NaN   \nII13912                                                NaN   \nII14224                                                NaN   \nII14366                                                NaN   \nOA31527  'Due to a lack of an IXZXIXCL invocation for t...   \n\n                                        PROBLEM CONCLUSION  \\\nAPAR                                                         \nII12465                                                NaN   \nII13912                                                NaN   \nII14224                                                NaN   \nII14366                                                NaN   \nOA31527  'TYPE/RESTART(WARM) IPL/REQUIRED(YES) CLPA(YES...   \n\n                                             TEMPORARY FIX COMMENTS  \\\nAPAR                                                                  \nII12465                                                NaN      NaN   \nII13912                                                NaN      NaN   \nII14224                                                NaN      NaN   \nII14366                                                NaN      NaN   \nOA31527  '*** * TEMPORARY FIX MAY BE OBTAINED FROM DLL ...  '\\n\\n\\n   \n\n        CIRCUMVENTION days_to_fix SEV_1 SEV_2 SEV_3 SEV_4  \nAPAR                                                       \nII12465           NaN         NaN     0     0     0     1  \nII13912           NaN         NaN     0     0     0     1  \nII14224           NaN         NaN     0     0     0     1  \nII14366           NaN         NaN     0     0     0     1  \nOA31527       '\\n\\n\\n        16.0     0     0     1     0  \n\n[5 rows x 32 columns]"
                    }, 
                    "output_type": "execute_result"
                }
            ], 
            "source": "df.head()"
        }, 
        {
            "execution_count": 17, 
            "cell_type": "code", 
            "metadata": {}, 
            "outputs": [
                {
                    "output_type": "stream", 
                    "name": "stdout", 
                    "text": "1\u5e74\u4ee5\u4e0a\u639b\u304b\u3063\u3066\u308b\u4ef6\u6570 494\n"
                }
            ], 
            "source": "#\u4fee\u6b63\u307e\u3067\u306b1\u5e74\u4ee5\u4e0a\u639b\u304b\u3063\u3066\u3044\u308b\u4ef6\u6570\u3092\u30ab\u30a6\u30f3\u30c8\nprint('1\u5e74\u4ee5\u4e0a\u639b\u304b\u3063\u3066\u308b\u4ef6\u6570',len(df[df['days_to_fix'] > 365]))"
        }, 
        {
            "execution_count": 27, 
            "cell_type": "code", 
            "metadata": {}, 
            "outputs": [
                {
                    "execution_count": 27, 
                    "metadata": {}, 
                    "data": {
                        "text/plain": "'5740XYR00    8112\n'5635A0400    1446\n'5635A0300    1185\n'5655R3600     940\n'5635A0200     846\n'5655Y0400     783\n'694235B00     641\n'5655OPE00     626\n'5635A0100     614\n'5655S9700     568\n'5655HAL00     521\n'5697WSZ01     495\n'5655W9700     469\n'5635A0500     460\n'5697I8200     325\n'5698SA300     311\n'568851500     306\n'5655X0100     283\n'5697F4400     258\n'5695DF117     248\n'5655W3200     234\n'5655Q1200     233\n'5695DF122     222\n'5608A2800     206\n'5752SC1BH     205\n'5695DF115     205\n'568819812     204\n'5752SC1CR     198\n'5698A3900     197\n'5752SC1C3     193\n              ... \n'5695DF118       1\n'5655D4403       1\n'5655N6001       1\n'5725A54ST       1\n'566534801       1\n'565516201       1\n'566528504       1\n'5695SCPX7       1\n'5698A9800       1\n'5695OICLI       1\n'564806300       1\n'5698B1800       1\n'5655S1600       1\n'5724J0852       1\n'5655N0255       1\n'5655T6200       1\n'5697N4200       1\n'5655Y2900       1\n'5698SOA00       1\n'5655QCR01       1\n'5752SC1B5       1\n'5655E7201       1\n'5655E0200       1\n'5697B8200       1\n'5655FIN03       1\n'5648C9800       1\n'5655R1801       1\n'5655R4700       1\n'5655N0258       1\n'5695DF1VR       1\nName: RCOMP, Length: 534, dtype: int64"
                    }, 
                    "output_type": "execute_result"
                }
            ], 
            "source": "df['RCOMP'].value_counts()"
        }, 
        {
            "execution_count": null, 
            "cell_type": "code", 
            "metadata": {}, 
            "outputs": [], 
            "source": ""
        }
    ], 
    "metadata": {
        "kernelspec": {
            "display_name": "Python 3.5", 
            "name": "python3", 
            "language": "python"
        }, 
        "language_info": {
            "mimetype": "text/x-python", 
            "nbconvert_exporter": "python", 
            "version": "3.5.5", 
            "name": "python", 
            "file_extension": ".py", 
            "pygments_lexer": "ipython3", 
            "codemirror_mode": {
                "version": 3, 
                "name": "ipython"
            }
        }
    }, 
    "nbformat": 4
}