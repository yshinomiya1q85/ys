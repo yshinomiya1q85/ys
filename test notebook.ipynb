{
    "nbformat_minor": 1, 
    "cells": [
        {
            "source": "x <- c(1,3,2,5)", 
            "cell_type": "code", 
            "metadata": {}, 
            "outputs": [], 
            "execution_count": 1
        }, 
        {
            "source": "x", 
            "cell_type": "code", 
            "metadata": {}, 
            "outputs": [
                {
                    "output_type": "display_data", 
                    "data": {
                        "text/plain": "[1] 1 3 2 5", 
                        "text/latex": "\\begin{enumerate*}\n\\item 1\n\\item 3\n\\item 2\n\\item 5\n\\end{enumerate*}\n", 
                        "text/html": "<ol class=list-inline>\n\t<li>1</li>\n\t<li>3</li>\n\t<li>2</li>\n\t<li>5</li>\n</ol>\n", 
                        "text/markdown": "1. 1\n2. 3\n3. 2\n4. 5\n\n\n"
                    }, 
                    "metadata": {}
                }
            ], 
            "execution_count": 2
        }, 
        {
            "source": "", 
            "cell_type": "code", 
            "metadata": {}, 
            "outputs": [], 
            "execution_count": null
        }
    ], 
    "metadata": {
        "kernelspec": {
            "display_name": "R", 
            "name": "r", 
            "language": "R"
        }, 
        "language_info": {
            "mimetype": "text/x-r-source", 
            "version": "3.4.2", 
            "name": "R", 
            "pygments_lexer": "r", 
            "file_extension": ".r", 
            "codemirror_mode": "r"
        }
    }, 
    "nbformat": 4
}